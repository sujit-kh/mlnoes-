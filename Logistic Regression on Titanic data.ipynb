{
 "cells": [
  {
   "cell_type": "markdown",
   "id": "be2ae3fc",
   "metadata": {},
   "source": [
    "# Logistic Regression on Titanic data"
   ]
  },
  {
   "cell_type": "code",
   "execution_count": 1,
   "id": "6d1bad62",
   "metadata": {},
   "outputs": [],
   "source": [
    "import pandas as pd\n",
    "import numpy as np\n",
    "import seaborn as sns\n",
    "import matplotlib.pyplot as plt\n",
    "%matplotlib inline\n",
    "import math\n",
    "import sklearn"
   ]
  },
  {
   "cell_type": "code",
   "execution_count": 2,
   "id": "6e7ea756",
   "metadata": {},
   "outputs": [],
   "source": [
    "titanic_data = pd.read_csv('Titanic_1.csv')"
   ]
  },
  {
   "cell_type": "code",
   "execution_count": 3,
   "id": "22c5267d",
   "metadata": {},
   "outputs": [
    {
     "data": {
      "text/html": [
       "<div>\n",
       "<style scoped>\n",
       "    .dataframe tbody tr th:only-of-type {\n",
       "        vertical-align: middle;\n",
       "    }\n",
       "\n",
       "    .dataframe tbody tr th {\n",
       "        vertical-align: top;\n",
       "    }\n",
       "\n",
       "    .dataframe thead th {\n",
       "        text-align: right;\n",
       "    }\n",
       "</style>\n",
       "<table border=\"1\" class=\"dataframe\">\n",
       "  <thead>\n",
       "    <tr style=\"text-align: right;\">\n",
       "      <th></th>\n",
       "      <th>PassengerId</th>\n",
       "      <th>Survived</th>\n",
       "      <th>Pclass</th>\n",
       "      <th>Lname</th>\n",
       "      <th>Name</th>\n",
       "      <th>Sex</th>\n",
       "      <th>Age</th>\n",
       "      <th>SibSp</th>\n",
       "      <th>Parch</th>\n",
       "      <th>Ticket</th>\n",
       "      <th>Fare</th>\n",
       "      <th>Cabin</th>\n",
       "      <th>Embarked</th>\n",
       "    </tr>\n",
       "  </thead>\n",
       "  <tbody>\n",
       "    <tr>\n",
       "      <th>0</th>\n",
       "      <td>1</td>\n",
       "      <td>0</td>\n",
       "      <td>3</td>\n",
       "      <td>Braund</td>\n",
       "      <td>Mr. Owen Harris</td>\n",
       "      <td>male</td>\n",
       "      <td>22.0</td>\n",
       "      <td>1</td>\n",
       "      <td>0</td>\n",
       "      <td>A/5 21171</td>\n",
       "      <td>7.2500</td>\n",
       "      <td>NaN</td>\n",
       "      <td>S</td>\n",
       "    </tr>\n",
       "    <tr>\n",
       "      <th>1</th>\n",
       "      <td>2</td>\n",
       "      <td>1</td>\n",
       "      <td>1</td>\n",
       "      <td>Cumings</td>\n",
       "      <td>Mrs. John Bradley (Florence Briggs Thayer)</td>\n",
       "      <td>female</td>\n",
       "      <td>38.0</td>\n",
       "      <td>1</td>\n",
       "      <td>0</td>\n",
       "      <td>PC 17599</td>\n",
       "      <td>71.2833</td>\n",
       "      <td>C85</td>\n",
       "      <td>C</td>\n",
       "    </tr>\n",
       "    <tr>\n",
       "      <th>2</th>\n",
       "      <td>3</td>\n",
       "      <td>1</td>\n",
       "      <td>3</td>\n",
       "      <td>Heikkinen</td>\n",
       "      <td>Miss. Laina</td>\n",
       "      <td>female</td>\n",
       "      <td>26.0</td>\n",
       "      <td>0</td>\n",
       "      <td>0</td>\n",
       "      <td>STON/O2. 3101282</td>\n",
       "      <td>7.9250</td>\n",
       "      <td>NaN</td>\n",
       "      <td>S</td>\n",
       "    </tr>\n",
       "    <tr>\n",
       "      <th>3</th>\n",
       "      <td>4</td>\n",
       "      <td>1</td>\n",
       "      <td>1</td>\n",
       "      <td>Futrelle</td>\n",
       "      <td>Mrs. Jacques Heath (Lily May Peel)</td>\n",
       "      <td>female</td>\n",
       "      <td>35.0</td>\n",
       "      <td>1</td>\n",
       "      <td>0</td>\n",
       "      <td>113803</td>\n",
       "      <td>53.1000</td>\n",
       "      <td>C123</td>\n",
       "      <td>S</td>\n",
       "    </tr>\n",
       "    <tr>\n",
       "      <th>4</th>\n",
       "      <td>5</td>\n",
       "      <td>0</td>\n",
       "      <td>3</td>\n",
       "      <td>Allen</td>\n",
       "      <td>Mr. William Henry</td>\n",
       "      <td>male</td>\n",
       "      <td>35.0</td>\n",
       "      <td>0</td>\n",
       "      <td>0</td>\n",
       "      <td>373450</td>\n",
       "      <td>8.0500</td>\n",
       "      <td>NaN</td>\n",
       "      <td>S</td>\n",
       "    </tr>\n",
       "    <tr>\n",
       "      <th>5</th>\n",
       "      <td>6</td>\n",
       "      <td>0</td>\n",
       "      <td>3</td>\n",
       "      <td>Moran</td>\n",
       "      <td>Mr. James</td>\n",
       "      <td>male</td>\n",
       "      <td>NaN</td>\n",
       "      <td>0</td>\n",
       "      <td>0</td>\n",
       "      <td>330877</td>\n",
       "      <td>8.4583</td>\n",
       "      <td>NaN</td>\n",
       "      <td>Q</td>\n",
       "    </tr>\n",
       "    <tr>\n",
       "      <th>6</th>\n",
       "      <td>7</td>\n",
       "      <td>0</td>\n",
       "      <td>1</td>\n",
       "      <td>McCarthy</td>\n",
       "      <td>Mr. Timothy J</td>\n",
       "      <td>male</td>\n",
       "      <td>54.0</td>\n",
       "      <td>0</td>\n",
       "      <td>0</td>\n",
       "      <td>17463</td>\n",
       "      <td>51.8625</td>\n",
       "      <td>E46</td>\n",
       "      <td>S</td>\n",
       "    </tr>\n",
       "    <tr>\n",
       "      <th>7</th>\n",
       "      <td>8</td>\n",
       "      <td>0</td>\n",
       "      <td>3</td>\n",
       "      <td>Palsson</td>\n",
       "      <td>Master. Gosta Leonard</td>\n",
       "      <td>male</td>\n",
       "      <td>2.0</td>\n",
       "      <td>3</td>\n",
       "      <td>1</td>\n",
       "      <td>349909</td>\n",
       "      <td>21.0750</td>\n",
       "      <td>NaN</td>\n",
       "      <td>S</td>\n",
       "    </tr>\n",
       "    <tr>\n",
       "      <th>8</th>\n",
       "      <td>9</td>\n",
       "      <td>1</td>\n",
       "      <td>3</td>\n",
       "      <td>Johnson</td>\n",
       "      <td>Mrs. Oscar W (Elisabeth Vilhelmina Berg)</td>\n",
       "      <td>female</td>\n",
       "      <td>27.0</td>\n",
       "      <td>0</td>\n",
       "      <td>2</td>\n",
       "      <td>347742</td>\n",
       "      <td>11.1333</td>\n",
       "      <td>NaN</td>\n",
       "      <td>S</td>\n",
       "    </tr>\n",
       "    <tr>\n",
       "      <th>9</th>\n",
       "      <td>10</td>\n",
       "      <td>1</td>\n",
       "      <td>2</td>\n",
       "      <td>Nasser</td>\n",
       "      <td>Mrs. Nicholas (Adele Achem)</td>\n",
       "      <td>female</td>\n",
       "      <td>14.0</td>\n",
       "      <td>1</td>\n",
       "      <td>0</td>\n",
       "      <td>237736</td>\n",
       "      <td>30.0708</td>\n",
       "      <td>NaN</td>\n",
       "      <td>C</td>\n",
       "    </tr>\n",
       "  </tbody>\n",
       "</table>\n",
       "</div>"
      ],
      "text/plain": [
       "   PassengerId  Survived  Pclass      Lname  \\\n",
       "0            1         0       3     Braund   \n",
       "1            2         1       1    Cumings   \n",
       "2            3         1       3  Heikkinen   \n",
       "3            4         1       1   Futrelle   \n",
       "4            5         0       3      Allen   \n",
       "5            6         0       3      Moran   \n",
       "6            7         0       1   McCarthy   \n",
       "7            8         0       3    Palsson   \n",
       "8            9         1       3    Johnson   \n",
       "9           10         1       2     Nasser   \n",
       "\n",
       "                                          Name     Sex   Age  SibSp  Parch  \\\n",
       "0                              Mr. Owen Harris    male  22.0      1      0   \n",
       "1   Mrs. John Bradley (Florence Briggs Thayer)  female  38.0      1      0   \n",
       "2                                  Miss. Laina  female  26.0      0      0   \n",
       "3           Mrs. Jacques Heath (Lily May Peel)  female  35.0      1      0   \n",
       "4                            Mr. William Henry    male  35.0      0      0   \n",
       "5                                    Mr. James    male   NaN      0      0   \n",
       "6                                Mr. Timothy J    male  54.0      0      0   \n",
       "7                        Master. Gosta Leonard    male   2.0      3      1   \n",
       "8     Mrs. Oscar W (Elisabeth Vilhelmina Berg)  female  27.0      0      2   \n",
       "9                  Mrs. Nicholas (Adele Achem)  female  14.0      1      0   \n",
       "\n",
       "             Ticket     Fare Cabin Embarked  \n",
       "0         A/5 21171   7.2500   NaN        S  \n",
       "1          PC 17599  71.2833   C85        C  \n",
       "2  STON/O2. 3101282   7.9250   NaN        S  \n",
       "3            113803  53.1000  C123        S  \n",
       "4            373450   8.0500   NaN        S  \n",
       "5            330877   8.4583   NaN        Q  \n",
       "6             17463  51.8625   E46        S  \n",
       "7            349909  21.0750   NaN        S  \n",
       "8            347742  11.1333   NaN        S  \n",
       "9            237736  30.0708   NaN        C  "
      ]
     },
     "execution_count": 3,
     "metadata": {},
     "output_type": "execute_result"
    }
   ],
   "source": [
    "titanic_data.head(10)"
   ]
  },
  {
   "cell_type": "code",
   "execution_count": 4,
   "id": "113044d8",
   "metadata": {},
   "outputs": [
    {
     "data": {
      "text/plain": [
       "(156, 13)"
      ]
     },
     "execution_count": 4,
     "metadata": {},
     "output_type": "execute_result"
    }
   ],
   "source": [
    "titanic_data.shape"
   ]
  },
  {
   "cell_type": "markdown",
   "id": "5305097c",
   "metadata": {},
   "source": [
    "#  Analyize"
   ]
  },
  {
   "cell_type": "code",
   "execution_count": 5,
   "id": "772bdec0",
   "metadata": {
    "scrolled": true
   },
   "outputs": [
    {
     "data": {
      "text/plain": [
       "<AxesSubplot:xlabel='Survived', ylabel='count'>"
      ]
     },
     "execution_count": 5,
     "metadata": {},
     "output_type": "execute_result"
    },
    {
     "data": {
      "image/png": "[encoded data removed]",
      "text/plain": [
       "<Figure size 432x288 with 1 Axes>"
      ]
     },
     "metadata": {
      "needs_background": "light"
     },
     "output_type": "display_data"
    }
   ],
   "source": [
    "sns.countplot(x='Survived',data=titanic_data)"
   ]
  },
  {
   "cell_type": "code",
   "execution_count": 6,
   "id": "07557537",
   "metadata": {},
   "outputs": [
    {
     "data": {
      "text/plain": [
       "<AxesSubplot:xlabel='Survived', ylabel='count'>"
      ]
     },
     "execution_count": 6,
     "metadata": {},
     "output_type": "execute_result"
    },
    {
     "data": {
      "image/png": "[encoded data removed]",
      "text/plain": [
       "<Figure size 432x288 with 1 Axes>"
      ]
     },
     "metadata": {
      "needs_background": "light"
     },
     "output_type": "display_data"
    }
   ],
   "source": [
    "sns.countplot(x='Survived',hue='Sex',data=titanic_data)"
   ]
  },
  {
   "cell_type": "code",
   "execution_count": 7,
   "id": "daaf17a1",
   "metadata": {},
   "outputs": [
    {
     "data": {
      "text/plain": [
       "<AxesSubplot:xlabel='Survived', ylabel='count'>"
      ]
     },
     "execution_count": 7,
     "metadata": {},
     "output_type": "execute_result"
    },
    {
     "data": {
      "image/png": "[encoded data removed]",
      "text/plain": [
       "<Figure size 432x288 with 1 Axes>"
      ]
     },
     "metadata": {
      "needs_background": "light"
     },
     "output_type": "display_data"
    }
   ],
   "source": [
    "sns.countplot(x='Survived',hue='Pclass',data=titanic_data)"
   ]
  },
  {
   "cell_type": "code",
   "execution_count": 8,
   "id": "425d56a9",
   "metadata": {},
   "outputs": [
    {
     "data": {
      "text/plain": [
       "<AxesSubplot:ylabel='Frequency'>"
      ]
     },
     "execution_count": 8,
     "metadata": {},
     "output_type": "execute_result"
    },
    {
     "data": {
      "image/png": "[encoded data removed]",
      "text/plain": [
       "<Figure size 432x288 with 1 Axes>"
      ]
     },
     "metadata": {
      "needs_background": "light"
     },
     "output_type": "display_data"
    }
   ],
   "source": [
    "titanic_data['Age'].plot.hist()"
   ]
  },
  {
   "cell_type": "code",
   "execution_count": 9,
   "id": "8e3483c7",
   "metadata": {},
   "outputs": [
    {
     "data": {
      "text/plain": [
       "<AxesSubplot:ylabel='Frequency'>"
      ]
     },
     "execution_count": 9,
     "metadata": {},
     "output_type": "execute_result"
    },
    {
     "data": {
      "image/png": "[encoded data removed]",
      "text/plain": [
       "<Figure size 432x288 with 1 Axes>"
      ]
     },
     "metadata": {
      "needs_background": "light"
     },
     "output_type": "display_data"
    }
   ],
   "source": [
    "titanic_data['Fare'].plot.hist()"
   ]
  },
  {
   "cell_type": "code",
   "execution_count": 10,
   "id": "d89ece94",
   "metadata": {},
   "outputs": [
    {
     "name": "stdout",
     "output_type": "stream",
     "text": [
      "<class 'pandas.core.frame.DataFrame'>\n",
      "RangeIndex: 156 entries, 0 to 155\n",
      "Data columns (total 13 columns):\n",
      " #   Column       Non-Null Count  Dtype  \n",
      "---  ------       --------------  -----  \n",
      " 0   PassengerId  156 non-null    int64  \n",
      " 1   Survived     156 non-null    int64  \n",
      " 2   Pclass       156 non-null    int64  \n",
      " 3   Lname        156 non-null    object \n",
      " 4   Name         156 non-null    object \n",
      " 5   Sex          156 non-null    object \n",
      " 6   Age          126 non-null    float64\n",
      " 7   SibSp        156 non-null    int64  \n",
      " 8   Parch        156 non-null    int64  \n",
      " 9   Ticket       156 non-null    object \n",
      " 10  Fare         156 non-null    float64\n",
      " 11  Cabin        31 non-null     object \n",
      " 12  Embarked     155 non-null    object \n",
      "dtypes: float64(2), int64(5), object(6)\n",
      "memory usage: 16.0+ KB\n"
     ]
    }
   ],
   "source": [
    "titanic_data.info()"
   ]
  },
  {
   "cell_type": "code",
   "execution_count": 11,
   "id": "ca6295c3",
   "metadata": {},
   "outputs": [
    {
     "data": {
      "text/plain": [
       "<AxesSubplot:xlabel='SibSp', ylabel='count'>"
      ]
     },
     "execution_count": 11,
     "metadata": {},
     "output_type": "execute_result"
    },
    {
     "data": {
      "image/png": "[encoded data removed]",
      "text/plain": [
       "<Figure size 432x288 with 1 Axes>"
      ]
     },
     "metadata": {
      "needs_background": "light"
     },
     "output_type": "display_data"
    }
   ],
   "source": [
    "sns.countplot(x='SibSp',data=titanic_data)"
   ]
  },
  {
   "cell_type": "code",
   "execution_count": 12,
   "id": "18a7d1e1",
   "metadata": {},
   "outputs": [
    {
     "name": "stdout",
     "output_type": "stream",
     "text": [
      "[1, 0]\n"
     ]
    }
   ],
   "source": [
    "nums=[2,7,3,4]\n",
    "target=9\n",
    "l=len(nums)\n",
    "for i in range(0,l):\n",
    "    for j in range(0,i):\n",
    "        if nums[i]+nums[j]==target:\n",
    "            print([i,j])"
   ]
  },
  {
   "cell_type": "code",
   "execution_count": 13,
   "id": "c794e427",
   "metadata": {},
   "outputs": [
    {
     "data": {
      "text/plain": [
       "PassengerId      0\n",
       "Survived         0\n",
       "Pclass           0\n",
       "Lname            0\n",
       "Name             0\n",
       "Sex              0\n",
       "Age             30\n",
       "SibSp            0\n",
       "Parch            0\n",
       "Ticket           0\n",
       "Fare             0\n",
       "Cabin          125\n",
       "Embarked         1\n",
       "dtype: int64"
      ]
     },
     "execution_count": 13,
     "metadata": {},
     "output_type": "execute_result"
    }
   ],
   "source": [
    "titanic_data.isnull().sum()"
   ]
  },
  {
   "cell_type": "code",
   "execution_count": 14,
   "id": "cff7e154",
   "metadata": {},
   "outputs": [
    {
     "data": {
      "text/plain": [
       "<AxesSubplot:>"
      ]
     },
     "execution_count": 14,
     "metadata": {},
     "output_type": "execute_result"
    },
    {
     "data": {
      "image/png": "[encoded data removed]",
      "text/plain": [
       "<Figure size 432x288 with 2 Axes>"
      ]
     },
     "metadata": {
      "needs_background": "light"
     },
     "output_type": "display_data"
    }
   ],
   "source": [
    "sns.heatmap(titanic_data.isnull(),yticklabels=False, cmap='viridis')"
   ]
  },
  {
   "cell_type": "code",
   "execution_count": 15,
   "id": "38df1301",
   "metadata": {},
   "outputs": [
    {
     "data": {
      "text/plain": [
       "<AxesSubplot:xlabel='Pclass', ylabel='Age'>"
      ]
     },
     "execution_count": 15,
     "metadata": {},
     "output_type": "execute_result"
    },
    {
     "data": {
      "image/png": "[encoded data removed]",
      "text/plain": [
       "<Figure size 432x288 with 1 Axes>"
      ]
     },
     "metadata": {
      "needs_background": "light"
     },
     "output_type": "display_data"
    }
   ],
   "source": [
    "sns.boxplot(x='Pclass',y='Age',data=titanic_data)"
   ]
  },
  {
   "cell_type": "code",
   "execution_count": 16,
   "id": "948f80da",
   "metadata": {},
   "outputs": [
    {
     "data": {
      "text/html": [
       "<div>\n",
       "<style scoped>\n",
       "    .dataframe tbody tr th:only-of-type {\n",
       "        vertical-align: middle;\n",
       "    }\n",
       "\n",
       "    .dataframe tbody tr th {\n",
       "        vertical-align: top;\n",
       "    }\n",
       "\n",
       "    .dataframe thead th {\n",
       "        text-align: right;\n",
       "    }\n",
       "</style>\n",
       "<table border=\"1\" class=\"dataframe\">\n",
       "  <thead>\n",
       "    <tr style=\"text-align: right;\">\n",
       "      <th></th>\n",
       "      <th>PassengerId</th>\n",
       "      <th>Survived</th>\n",
       "      <th>Pclass</th>\n",
       "      <th>Lname</th>\n",
       "      <th>Name</th>\n",
       "      <th>Sex</th>\n",
       "      <th>Age</th>\n",
       "      <th>SibSp</th>\n",
       "      <th>Parch</th>\n",
       "      <th>Ticket</th>\n",
       "      <th>Fare</th>\n",
       "      <th>Cabin</th>\n",
       "      <th>Embarked</th>\n",
       "    </tr>\n",
       "  </thead>\n",
       "  <tbody>\n",
       "    <tr>\n",
       "      <th>0</th>\n",
       "      <td>1</td>\n",
       "      <td>0</td>\n",
       "      <td>3</td>\n",
       "      <td>Braund</td>\n",
       "      <td>Mr. Owen Harris</td>\n",
       "      <td>male</td>\n",
       "      <td>22.0</td>\n",
       "      <td>1</td>\n",
       "      <td>0</td>\n",
       "      <td>A/5 21171</td>\n",
       "      <td>7.2500</td>\n",
       "      <td>NaN</td>\n",
       "      <td>S</td>\n",
       "    </tr>\n",
       "    <tr>\n",
       "      <th>1</th>\n",
       "      <td>2</td>\n",
       "      <td>1</td>\n",
       "      <td>1</td>\n",
       "      <td>Cumings</td>\n",
       "      <td>Mrs. John Bradley (Florence Briggs Thayer)</td>\n",
       "      <td>female</td>\n",
       "      <td>38.0</td>\n",
       "      <td>1</td>\n",
       "      <td>0</td>\n",
       "      <td>PC 17599</td>\n",
       "      <td>71.2833</td>\n",
       "      <td>C85</td>\n",
       "      <td>C</td>\n",
       "    </tr>\n",
       "    <tr>\n",
       "      <th>2</th>\n",
       "      <td>3</td>\n",
       "      <td>1</td>\n",
       "      <td>3</td>\n",
       "      <td>Heikkinen</td>\n",
       "      <td>Miss. Laina</td>\n",
       "      <td>female</td>\n",
       "      <td>26.0</td>\n",
       "      <td>0</td>\n",
       "      <td>0</td>\n",
       "      <td>STON/O2. 3101282</td>\n",
       "      <td>7.9250</td>\n",
       "      <td>NaN</td>\n",
       "      <td>S</td>\n",
       "    </tr>\n",
       "    <tr>\n",
       "      <th>3</th>\n",
       "      <td>4</td>\n",
       "      <td>1</td>\n",
       "      <td>1</td>\n",
       "      <td>Futrelle</td>\n",
       "      <td>Mrs. Jacques Heath (Lily May Peel)</td>\n",
       "      <td>female</td>\n",
       "      <td>35.0</td>\n",
       "      <td>1</td>\n",
       "      <td>0</td>\n",
       "      <td>113803</td>\n",
       "      <td>53.1000</td>\n",
       "      <td>C123</td>\n",
       "      <td>S</td>\n",
       "    </tr>\n",
       "    <tr>\n",
       "      <th>4</th>\n",
       "      <td>5</td>\n",
       "      <td>0</td>\n",
       "      <td>3</td>\n",
       "      <td>Allen</td>\n",
       "      <td>Mr. William Henry</td>\n",
       "      <td>male</td>\n",
       "      <td>35.0</td>\n",
       "      <td>0</td>\n",
       "      <td>0</td>\n",
       "      <td>373450</td>\n",
       "      <td>8.0500</td>\n",
       "      <td>NaN</td>\n",
       "      <td>S</td>\n",
       "    </tr>\n",
       "  </tbody>\n",
       "</table>\n",
       "</div>"
      ],
      "text/plain": [
       "   PassengerId  Survived  Pclass      Lname  \\\n",
       "0            1         0       3     Braund   \n",
       "1            2         1       1    Cumings   \n",
       "2            3         1       3  Heikkinen   \n",
       "3            4         1       1   Futrelle   \n",
       "4            5         0       3      Allen   \n",
       "\n",
       "                                          Name     Sex   Age  SibSp  Parch  \\\n",
       "0                              Mr. Owen Harris    male  22.0      1      0   \n",
       "1   Mrs. John Bradley (Florence Briggs Thayer)  female  38.0      1      0   \n",
       "2                                  Miss. Laina  female  26.0      0      0   \n",
       "3           Mrs. Jacques Heath (Lily May Peel)  female  35.0      1      0   \n",
       "4                            Mr. William Henry    male  35.0      0      0   \n",
       "\n",
       "             Ticket     Fare Cabin Embarked  \n",
       "0         A/5 21171   7.2500   NaN        S  \n",
       "1          PC 17599  71.2833   C85        C  \n",
       "2  STON/O2. 3101282   7.9250   NaN        S  \n",
       "3            113803  53.1000  C123        S  \n",
       "4            373450   8.0500   NaN        S  "
      ]
     },
     "execution_count": 16,
     "metadata": {},
     "output_type": "execute_result"
    }
   ],
   "source": [
    "titanic_data.head()"
   ]
  },
  {
   "cell_type": "markdown",
   "id": "47839a4b",
   "metadata": {},
   "source": [
    "# Data Wrangling"
   ]
  },
  {
   "cell_type": "code",
   "execution_count": 17,
   "id": "bff4eedb",
   "metadata": {},
   "outputs": [],
   "source": [
    "titanic_data.drop('Cabin',axis=1,inplace=True)"
   ]
  },
  {
   "cell_type": "code",
   "execution_count": 18,
   "id": "34e01262",
   "metadata": {},
   "outputs": [
    {
     "data": {
      "text/html": [
       "<div>\n",
       "<style scoped>\n",
       "    .dataframe tbody tr th:only-of-type {\n",
       "        vertical-align: middle;\n",
       "    }\n",
       "\n",
       "    .dataframe tbody tr th {\n",
       "        vertical-align: top;\n",
       "    }\n",
       "\n",
       "    .dataframe thead th {\n",
       "        text-align: right;\n",
       "    }\n",
       "</style>\n",
       "<table border=\"1\" class=\"dataframe\">\n",
       "  <thead>\n",
       "    <tr style=\"text-align: right;\">\n",
       "      <th></th>\n",
       "      <th>PassengerId</th>\n",
       "      <th>Survived</th>\n",
       "      <th>Pclass</th>\n",
       "      <th>Lname</th>\n",
       "      <th>Name</th>\n",
       "      <th>Sex</th>\n",
       "      <th>Age</th>\n",
       "      <th>SibSp</th>\n",
       "      <th>Parch</th>\n",
       "      <th>Ticket</th>\n",
       "      <th>Fare</th>\n",
       "      <th>Embarked</th>\n",
       "    </tr>\n",
       "  </thead>\n",
       "  <tbody>\n",
       "    <tr>\n",
       "      <th>0</th>\n",
       "      <td>1</td>\n",
       "      <td>0</td>\n",
       "      <td>3</td>\n",
       "      <td>Braund</td>\n",
       "      <td>Mr. Owen Harris</td>\n",
       "      <td>male</td>\n",
       "      <td>22.0</td>\n",
       "      <td>1</td>\n",
       "      <td>0</td>\n",
       "      <td>A/5 21171</td>\n",
       "      <td>7.2500</td>\n",
       "      <td>S</td>\n",
       "    </tr>\n",
       "    <tr>\n",
       "      <th>1</th>\n",
       "      <td>2</td>\n",
       "      <td>1</td>\n",
       "      <td>1</td>\n",
       "      <td>Cumings</td>\n",
       "      <td>Mrs. John Bradley (Florence Briggs Thayer)</td>\n",
       "      <td>female</td>\n",
       "      <td>38.0</td>\n",
       "      <td>1</td>\n",
       "      <td>0</td>\n",
       "      <td>PC 17599</td>\n",
       "      <td>71.2833</td>\n",
       "      <td>C</td>\n",
       "    </tr>\n",
       "    <tr>\n",
       "      <th>2</th>\n",
       "      <td>3</td>\n",
       "      <td>1</td>\n",
       "      <td>3</td>\n",
       "      <td>Heikkinen</td>\n",
       "      <td>Miss. Laina</td>\n",
       "      <td>female</td>\n",
       "      <td>26.0</td>\n",
       "      <td>0</td>\n",
       "      <td>0</td>\n",
       "      <td>STON/O2. 3101282</td>\n",
       "      <td>7.9250</td>\n",
       "      <td>S</td>\n",
       "    </tr>\n",
       "    <tr>\n",
       "      <th>3</th>\n",
       "      <td>4</td>\n",
       "      <td>1</td>\n",
       "      <td>1</td>\n",
       "      <td>Futrelle</td>\n",
       "      <td>Mrs. Jacques Heath (Lily May Peel)</td>\n",
       "      <td>female</td>\n",
       "      <td>35.0</td>\n",
       "      <td>1</td>\n",
       "      <td>0</td>\n",
       "      <td>113803</td>\n",
       "      <td>53.1000</td>\n",
       "      <td>S</td>\n",
       "    </tr>\n",
       "    <tr>\n",
       "      <th>4</th>\n",
       "      <td>5</td>\n",
       "      <td>0</td>\n",
       "      <td>3</td>\n",
       "      <td>Allen</td>\n",
       "      <td>Mr. William Henry</td>\n",
       "      <td>male</td>\n",
       "      <td>35.0</td>\n",
       "      <td>0</td>\n",
       "      <td>0</td>\n",
       "      <td>373450</td>\n",
       "      <td>8.0500</td>\n",
       "      <td>S</td>\n",
       "    </tr>\n",
       "  </tbody>\n",
       "</table>\n",
       "</div>"
      ],
      "text/plain": [
       "   PassengerId  Survived  Pclass      Lname  \\\n",
       "0            1         0       3     Braund   \n",
       "1            2         1       1    Cumings   \n",
       "2            3         1       3  Heikkinen   \n",
       "3            4         1       1   Futrelle   \n",
       "4            5         0       3      Allen   \n",
       "\n",
       "                                          Name     Sex   Age  SibSp  Parch  \\\n",
       "0                              Mr. Owen Harris    male  22.0      1      0   \n",
       "1   Mrs. John Bradley (Florence Briggs Thayer)  female  38.0      1      0   \n",
       "2                                  Miss. Laina  female  26.0      0      0   \n",
       "3           Mrs. Jacques Heath (Lily May Peel)  female  35.0      1      0   \n",
       "4                            Mr. William Henry    male  35.0      0      0   \n",
       "\n",
       "             Ticket     Fare Embarked  \n",
       "0         A/5 21171   7.2500        S  \n",
       "1          PC 17599  71.2833        C  \n",
       "2  STON/O2. 3101282   7.9250        S  \n",
       "3            113803  53.1000        S  \n",
       "4            373450   8.0500        S  "
      ]
     },
     "execution_count": 18,
     "metadata": {},
     "output_type": "execute_result"
    }
   ],
   "source": [
    "titanic_data.head()"
   ]
  },
  {
   "cell_type": "code",
   "execution_count": 19,
   "id": "45c524c3",
   "metadata": {},
   "outputs": [],
   "source": [
    "titanic_data.dropna(inplace=True)"
   ]
  },
  {
   "cell_type": "code",
   "execution_count": 20,
   "id": "0bbc8d66",
   "metadata": {},
   "outputs": [
    {
     "data": {
      "text/plain": [
       "<AxesSubplot:>"
      ]
     },
     "execution_count": 20,
     "metadata": {},
     "output_type": "execute_result"
    },
    {
     "data": {
      "image/png": "[encoded data removed]",
      "text/plain": [
       "<Figure size 432x288 with 1 Axes>"
      ]
     },
     "metadata": {
      "needs_background": "light"
     },
     "output_type": "display_data"
    }
   ],
   "source": [
    "sns.heatmap(titanic_data.isnull(),yticklabels=False, cbar=False)"
   ]
  },
  {
   "cell_type": "code",
   "execution_count": 21,
   "id": "bc638dec",
   "metadata": {},
   "outputs": [
    {
     "data": {
      "text/html": [
       "<div>\n",
       "<style scoped>\n",
       "    .dataframe tbody tr th:only-of-type {\n",
       "        vertical-align: middle;\n",
       "    }\n",
       "\n",
       "    .dataframe tbody tr th {\n",
       "        vertical-align: top;\n",
       "    }\n",
       "\n",
       "    .dataframe thead th {\n",
       "        text-align: right;\n",
       "    }\n",
       "</style>\n",
       "<table border=\"1\" class=\"dataframe\">\n",
       "  <thead>\n",
       "    <tr style=\"text-align: right;\">\n",
       "      <th></th>\n",
       "      <th>PassengerId</th>\n",
       "      <th>Survived</th>\n",
       "      <th>Pclass</th>\n",
       "      <th>Lname</th>\n",
       "      <th>Name</th>\n",
       "      <th>Sex</th>\n",
       "      <th>Age</th>\n",
       "      <th>SibSp</th>\n",
       "      <th>Parch</th>\n",
       "      <th>Ticket</th>\n",
       "      <th>Fare</th>\n",
       "      <th>Embarked</th>\n",
       "    </tr>\n",
       "  </thead>\n",
       "  <tbody>\n",
       "    <tr>\n",
       "      <th>0</th>\n",
       "      <td>1</td>\n",
       "      <td>0</td>\n",
       "      <td>3</td>\n",
       "      <td>Braund</td>\n",
       "      <td>Mr. Owen Harris</td>\n",
       "      <td>male</td>\n",
       "      <td>22.0</td>\n",
       "      <td>1</td>\n",
       "      <td>0</td>\n",
       "      <td>A/5 21171</td>\n",
       "      <td>7.2500</td>\n",
       "      <td>S</td>\n",
       "    </tr>\n",
       "    <tr>\n",
       "      <th>1</th>\n",
       "      <td>2</td>\n",
       "      <td>1</td>\n",
       "      <td>1</td>\n",
       "      <td>Cumings</td>\n",
       "      <td>Mrs. John Bradley (Florence Briggs Thayer)</td>\n",
       "      <td>female</td>\n",
       "      <td>38.0</td>\n",
       "      <td>1</td>\n",
       "      <td>0</td>\n",
       "      <td>PC 17599</td>\n",
       "      <td>71.2833</td>\n",
       "      <td>C</td>\n",
       "    </tr>\n",
       "    <tr>\n",
       "      <th>2</th>\n",
       "      <td>3</td>\n",
       "      <td>1</td>\n",
       "      <td>3</td>\n",
       "      <td>Heikkinen</td>\n",
       "      <td>Miss. Laina</td>\n",
       "      <td>female</td>\n",
       "      <td>26.0</td>\n",
       "      <td>0</td>\n",
       "      <td>0</td>\n",
       "      <td>STON/O2. 3101282</td>\n",
       "      <td>7.9250</td>\n",
       "      <td>S</td>\n",
       "    </tr>\n",
       "    <tr>\n",
       "      <th>3</th>\n",
       "      <td>4</td>\n",
       "      <td>1</td>\n",
       "      <td>1</td>\n",
       "      <td>Futrelle</td>\n",
       "      <td>Mrs. Jacques Heath (Lily May Peel)</td>\n",
       "      <td>female</td>\n",
       "      <td>35.0</td>\n",
       "      <td>1</td>\n",
       "      <td>0</td>\n",
       "      <td>113803</td>\n",
       "      <td>53.1000</td>\n",
       "      <td>S</td>\n",
       "    </tr>\n",
       "    <tr>\n",
       "      <th>4</th>\n",
       "      <td>5</td>\n",
       "      <td>0</td>\n",
       "      <td>3</td>\n",
       "      <td>Allen</td>\n",
       "      <td>Mr. William Henry</td>\n",
       "      <td>male</td>\n",
       "      <td>35.0</td>\n",
       "      <td>0</td>\n",
       "      <td>0</td>\n",
       "      <td>373450</td>\n",
       "      <td>8.0500</td>\n",
       "      <td>S</td>\n",
       "    </tr>\n",
       "  </tbody>\n",
       "</table>\n",
       "</div>"
      ],
      "text/plain": [
       "   PassengerId  Survived  Pclass      Lname  \\\n",
       "0            1         0       3     Braund   \n",
       "1            2         1       1    Cumings   \n",
       "2            3         1       3  Heikkinen   \n",
       "3            4         1       1   Futrelle   \n",
       "4            5         0       3      Allen   \n",
       "\n",
       "                                          Name     Sex   Age  SibSp  Parch  \\\n",
       "0                              Mr. Owen Harris    male  22.0      1      0   \n",
       "1   Mrs. John Bradley (Florence Briggs Thayer)  female  38.0      1      0   \n",
       "2                                  Miss. Laina  female  26.0      0      0   \n",
       "3           Mrs. Jacques Heath (Lily May Peel)  female  35.0      1      0   \n",
       "4                            Mr. William Henry    male  35.0      0      0   \n",
       "\n",
       "             Ticket     Fare Embarked  \n",
       "0         A/5 21171   7.2500        S  \n",
       "1          PC 17599  71.2833        C  \n",
       "2  STON/O2. 3101282   7.9250        S  \n",
       "3            113803  53.1000        S  \n",
       "4            373450   8.0500        S  "
      ]
     },
     "execution_count": 21,
     "metadata": {},
     "output_type": "execute_result"
    }
   ],
   "source": [
    "titanic_data.head()"
   ]
  },
  {
   "cell_type": "code",
   "execution_count": 22,
   "id": "1b6950dd",
   "metadata": {},
   "outputs": [
    {
     "data": {
      "text/html": [
       "<div>\n",
       "<style scoped>\n",
       "    .dataframe tbody tr th:only-of-type {\n",
       "        vertical-align: middle;\n",
       "    }\n",
       "\n",
       "    .dataframe tbody tr th {\n",
       "        vertical-align: top;\n",
       "    }\n",
       "\n",
       "    .dataframe thead th {\n",
       "        text-align: right;\n",
       "    }\n",
       "</style>\n",
       "<table border=\"1\" class=\"dataframe\">\n",
       "  <thead>\n",
       "    <tr style=\"text-align: right;\">\n",
       "      <th></th>\n",
       "      <th>male</th>\n",
       "    </tr>\n",
       "  </thead>\n",
       "  <tbody>\n",
       "    <tr>\n",
       "      <th>0</th>\n",
       "      <td>1</td>\n",
       "    </tr>\n",
       "    <tr>\n",
       "      <th>1</th>\n",
       "      <td>0</td>\n",
       "    </tr>\n",
       "    <tr>\n",
       "      <th>2</th>\n",
       "      <td>0</td>\n",
       "    </tr>\n",
       "    <tr>\n",
       "      <th>3</th>\n",
       "      <td>0</td>\n",
       "    </tr>\n",
       "    <tr>\n",
       "      <th>4</th>\n",
       "      <td>1</td>\n",
       "    </tr>\n",
       "  </tbody>\n",
       "</table>\n",
       "</div>"
      ],
      "text/plain": [
       "   male\n",
       "0     1\n",
       "1     0\n",
       "2     0\n",
       "3     0\n",
       "4     1"
      ]
     },
     "execution_count": 22,
     "metadata": {},
     "output_type": "execute_result"
    }
   ],
   "source": [
    "sex=pd.get_dummies(titanic_data['Sex'],drop_first=True)\n",
    "sex.head()"
   ]
  },
  {
   "cell_type": "code",
   "execution_count": 23,
   "id": "2b63251c",
   "metadata": {},
   "outputs": [
    {
     "data": {
      "text/html": [
       "<div>\n",
       "<style scoped>\n",
       "    .dataframe tbody tr th:only-of-type {\n",
       "        vertical-align: middle;\n",
       "    }\n",
       "\n",
       "    .dataframe tbody tr th {\n",
       "        vertical-align: top;\n",
       "    }\n",
       "\n",
       "    .dataframe thead th {\n",
       "        text-align: right;\n",
       "    }\n",
       "</style>\n",
       "<table border=\"1\" class=\"dataframe\">\n",
       "  <thead>\n",
       "    <tr style=\"text-align: right;\">\n",
       "      <th></th>\n",
       "      <th>Q</th>\n",
       "      <th>S</th>\n",
       "    </tr>\n",
       "  </thead>\n",
       "  <tbody>\n",
       "    <tr>\n",
       "      <th>0</th>\n",
       "      <td>0</td>\n",
       "      <td>1</td>\n",
       "    </tr>\n",
       "    <tr>\n",
       "      <th>1</th>\n",
       "      <td>0</td>\n",
       "      <td>0</td>\n",
       "    </tr>\n",
       "    <tr>\n",
       "      <th>2</th>\n",
       "      <td>0</td>\n",
       "      <td>1</td>\n",
       "    </tr>\n",
       "    <tr>\n",
       "      <th>3</th>\n",
       "      <td>0</td>\n",
       "      <td>1</td>\n",
       "    </tr>\n",
       "    <tr>\n",
       "      <th>4</th>\n",
       "      <td>0</td>\n",
       "      <td>1</td>\n",
       "    </tr>\n",
       "  </tbody>\n",
       "</table>\n",
       "</div>"
      ],
      "text/plain": [
       "   Q  S\n",
       "0  0  1\n",
       "1  0  0\n",
       "2  0  1\n",
       "3  0  1\n",
       "4  0  1"
      ]
     },
     "execution_count": 23,
     "metadata": {},
     "output_type": "execute_result"
    }
   ],
   "source": [
    "embarked=pd.get_dummies(titanic_data['Embarked'],drop_first=True)\n",
    "embarked.head(5)"
   ]
  },
  {
   "cell_type": "code",
   "execution_count": 24,
   "id": "e4d71e4c",
   "metadata": {},
   "outputs": [
    {
     "data": {
      "text/html": [
       "<div>\n",
       "<style scoped>\n",
       "    .dataframe tbody tr th:only-of-type {\n",
       "        vertical-align: middle;\n",
       "    }\n",
       "\n",
       "    .dataframe tbody tr th {\n",
       "        vertical-align: top;\n",
       "    }\n",
       "\n",
       "    .dataframe thead th {\n",
       "        text-align: right;\n",
       "    }\n",
       "</style>\n",
       "<table border=\"1\" class=\"dataframe\">\n",
       "  <thead>\n",
       "    <tr style=\"text-align: right;\">\n",
       "      <th></th>\n",
       "      <th>2</th>\n",
       "      <th>3</th>\n",
       "    </tr>\n",
       "  </thead>\n",
       "  <tbody>\n",
       "    <tr>\n",
       "      <th>0</th>\n",
       "      <td>0</td>\n",
       "      <td>1</td>\n",
       "    </tr>\n",
       "    <tr>\n",
       "      <th>1</th>\n",
       "      <td>0</td>\n",
       "      <td>0</td>\n",
       "    </tr>\n",
       "    <tr>\n",
       "      <th>2</th>\n",
       "      <td>0</td>\n",
       "      <td>1</td>\n",
       "    </tr>\n",
       "    <tr>\n",
       "      <th>3</th>\n",
       "      <td>0</td>\n",
       "      <td>0</td>\n",
       "    </tr>\n",
       "    <tr>\n",
       "      <th>4</th>\n",
       "      <td>0</td>\n",
       "      <td>1</td>\n",
       "    </tr>\n",
       "  </tbody>\n",
       "</table>\n",
       "</div>"
      ],
      "text/plain": [
       "   2  3\n",
       "0  0  1\n",
       "1  0  0\n",
       "2  0  1\n",
       "3  0  0\n",
       "4  0  1"
      ]
     },
     "execution_count": 24,
     "metadata": {},
     "output_type": "execute_result"
    }
   ],
   "source": [
    "Pcl=pd.get_dummies(titanic_data['Pclass'],drop_first=True)\n",
    "Pcl.head(5)"
   ]
  },
  {
   "cell_type": "code",
   "execution_count": 25,
   "id": "a06f64d4",
   "metadata": {},
   "outputs": [
    {
     "data": {
      "text/plain": [
       "Index(['PassengerId', 'Survived', 'Pclass', 'Lname', 'Name', 'Sex', 'Age',\n",
       "       'SibSp', 'Parch', 'Ticket', 'Fare', 'Embarked'],\n",
       "      dtype='object')"
      ]
     },
     "execution_count": 25,
     "metadata": {},
     "output_type": "execute_result"
    }
   ],
   "source": [
    "titanic_data.columns"
   ]
  },
  {
   "cell_type": "code",
   "execution_count": 26,
   "id": "9a88f60c",
   "metadata": {},
   "outputs": [],
   "source": [
    "# Remove unwanted columns\n",
    "titanic_data.drop(['Sex','Embarked','PassengerId','Lname','Name','Ticket'],axis=1,inplace=True)"
   ]
  },
  {
   "cell_type": "code",
   "execution_count": 27,
   "id": "eefeb5bb",
   "metadata": {},
   "outputs": [],
   "source": [
    "titanic_data.drop('Pclass',axis=1,inplace=True)"
   ]
  },
  {
   "cell_type": "code",
   "execution_count": 28,
   "id": "b26e8511",
   "metadata": {},
   "outputs": [],
   "source": [
    "#add new columns\n",
    "titanic_data=pd.concat([titanic_data,sex,embarked,Pcl],axis=1)"
   ]
  },
  {
   "cell_type": "code",
   "execution_count": 29,
   "id": "26f0eee3",
   "metadata": {},
   "outputs": [
    {
     "data": {
      "text/html": [
       "<div>\n",
       "<style scoped>\n",
       "    .dataframe tbody tr th:only-of-type {\n",
       "        vertical-align: middle;\n",
       "    }\n",
       "\n",
       "    .dataframe tbody tr th {\n",
       "        vertical-align: top;\n",
       "    }\n",
       "\n",
       "    .dataframe thead th {\n",
       "        text-align: right;\n",
       "    }\n",
       "</style>\n",
       "<table border=\"1\" class=\"dataframe\">\n",
       "  <thead>\n",
       "    <tr style=\"text-align: right;\">\n",
       "      <th></th>\n",
       "      <th>Survived</th>\n",
       "      <th>Age</th>\n",
       "      <th>SibSp</th>\n",
       "      <th>Parch</th>\n",
       "      <th>Fare</th>\n",
       "      <th>male</th>\n",
       "      <th>Q</th>\n",
       "      <th>S</th>\n",
       "      <th>2</th>\n",
       "      <th>3</th>\n",
       "    </tr>\n",
       "  </thead>\n",
       "  <tbody>\n",
       "    <tr>\n",
       "      <th>0</th>\n",
       "      <td>0</td>\n",
       "      <td>22.0</td>\n",
       "      <td>1</td>\n",
       "      <td>0</td>\n",
       "      <td>7.2500</td>\n",
       "      <td>1</td>\n",
       "      <td>0</td>\n",
       "      <td>1</td>\n",
       "      <td>0</td>\n",
       "      <td>1</td>\n",
       "    </tr>\n",
       "    <tr>\n",
       "      <th>1</th>\n",
       "      <td>1</td>\n",
       "      <td>38.0</td>\n",
       "      <td>1</td>\n",
       "      <td>0</td>\n",
       "      <td>71.2833</td>\n",
       "      <td>0</td>\n",
       "      <td>0</td>\n",
       "      <td>0</td>\n",
       "      <td>0</td>\n",
       "      <td>0</td>\n",
       "    </tr>\n",
       "    <tr>\n",
       "      <th>2</th>\n",
       "      <td>1</td>\n",
       "      <td>26.0</td>\n",
       "      <td>0</td>\n",
       "      <td>0</td>\n",
       "      <td>7.9250</td>\n",
       "      <td>0</td>\n",
       "      <td>0</td>\n",
       "      <td>1</td>\n",
       "      <td>0</td>\n",
       "      <td>1</td>\n",
       "    </tr>\n",
       "    <tr>\n",
       "      <th>3</th>\n",
       "      <td>1</td>\n",
       "      <td>35.0</td>\n",
       "      <td>1</td>\n",
       "      <td>0</td>\n",
       "      <td>53.1000</td>\n",
       "      <td>0</td>\n",
       "      <td>0</td>\n",
       "      <td>1</td>\n",
       "      <td>0</td>\n",
       "      <td>0</td>\n",
       "    </tr>\n",
       "    <tr>\n",
       "      <th>4</th>\n",
       "      <td>0</td>\n",
       "      <td>35.0</td>\n",
       "      <td>0</td>\n",
       "      <td>0</td>\n",
       "      <td>8.0500</td>\n",
       "      <td>1</td>\n",
       "      <td>0</td>\n",
       "      <td>1</td>\n",
       "      <td>0</td>\n",
       "      <td>1</td>\n",
       "    </tr>\n",
       "  </tbody>\n",
       "</table>\n",
       "</div>"
      ],
      "text/plain": [
       "   Survived   Age  SibSp  Parch     Fare  male  Q  S  2  3\n",
       "0         0  22.0      1      0   7.2500     1  0  1  0  1\n",
       "1         1  38.0      1      0  71.2833     0  0  0  0  0\n",
       "2         1  26.0      0      0   7.9250     0  0  1  0  1\n",
       "3         1  35.0      1      0  53.1000     0  0  1  0  0\n",
       "4         0  35.0      0      0   8.0500     1  0  1  0  1"
      ]
     },
     "execution_count": 29,
     "metadata": {},
     "output_type": "execute_result"
    }
   ],
   "source": [
    "titanic_data.head()"
   ]
  },
  {
   "cell_type": "markdown",
   "id": "0e2470e5",
   "metadata": {},
   "source": [
    "# Train Data"
   ]
  },
  {
   "cell_type": "code",
   "execution_count": 30,
   "id": "bb0164f6",
   "metadata": {},
   "outputs": [],
   "source": [
    "#first identify Daependent and independent varriable \n",
    "X= titanic_data.drop('Survived',axis=1)\n",
    "y= titanic_data['Survived']"
   ]
  },
  {
   "cell_type": "code",
   "execution_count": 31,
   "id": "ad35e512",
   "metadata": {},
   "outputs": [
    {
     "data": {
      "text/html": [
       "<div>\n",
       "<style scoped>\n",
       "    .dataframe tbody tr th:only-of-type {\n",
       "        vertical-align: middle;\n",
       "    }\n",
       "\n",
       "    .dataframe tbody tr th {\n",
       "        vertical-align: top;\n",
       "    }\n",
       "\n",
       "    .dataframe thead th {\n",
       "        text-align: right;\n",
       "    }\n",
       "</style>\n",
       "<table border=\"1\" class=\"dataframe\">\n",
       "  <thead>\n",
       "    <tr style=\"text-align: right;\">\n",
       "      <th></th>\n",
       "      <th>Age</th>\n",
       "      <th>SibSp</th>\n",
       "      <th>Parch</th>\n",
       "      <th>Fare</th>\n",
       "      <th>male</th>\n",
       "      <th>Q</th>\n",
       "      <th>S</th>\n",
       "      <th>2</th>\n",
       "      <th>3</th>\n",
       "    </tr>\n",
       "  </thead>\n",
       "  <tbody>\n",
       "    <tr>\n",
       "      <th>0</th>\n",
       "      <td>22.0</td>\n",
       "      <td>1</td>\n",
       "      <td>0</td>\n",
       "      <td>7.2500</td>\n",
       "      <td>1</td>\n",
       "      <td>0</td>\n",
       "      <td>1</td>\n",
       "      <td>0</td>\n",
       "      <td>1</td>\n",
       "    </tr>\n",
       "    <tr>\n",
       "      <th>1</th>\n",
       "      <td>38.0</td>\n",
       "      <td>1</td>\n",
       "      <td>0</td>\n",
       "      <td>71.2833</td>\n",
       "      <td>0</td>\n",
       "      <td>0</td>\n",
       "      <td>0</td>\n",
       "      <td>0</td>\n",
       "      <td>0</td>\n",
       "    </tr>\n",
       "    <tr>\n",
       "      <th>2</th>\n",
       "      <td>26.0</td>\n",
       "      <td>0</td>\n",
       "      <td>0</td>\n",
       "      <td>7.9250</td>\n",
       "      <td>0</td>\n",
       "      <td>0</td>\n",
       "      <td>1</td>\n",
       "      <td>0</td>\n",
       "      <td>1</td>\n",
       "    </tr>\n",
       "    <tr>\n",
       "      <th>3</th>\n",
       "      <td>35.0</td>\n",
       "      <td>1</td>\n",
       "      <td>0</td>\n",
       "      <td>53.1000</td>\n",
       "      <td>0</td>\n",
       "      <td>0</td>\n",
       "      <td>1</td>\n",
       "      <td>0</td>\n",
       "      <td>0</td>\n",
       "    </tr>\n",
       "    <tr>\n",
       "      <th>4</th>\n",
       "      <td>35.0</td>\n",
       "      <td>0</td>\n",
       "      <td>0</td>\n",
       "      <td>8.0500</td>\n",
       "      <td>1</td>\n",
       "      <td>0</td>\n",
       "      <td>1</td>\n",
       "      <td>0</td>\n",
       "      <td>1</td>\n",
       "    </tr>\n",
       "  </tbody>\n",
       "</table>\n",
       "</div>"
      ],
      "text/plain": [
       "    Age  SibSp  Parch     Fare  male  Q  S  2  3\n",
       "0  22.0      1      0   7.2500     1  0  1  0  1\n",
       "1  38.0      1      0  71.2833     0  0  0  0  0\n",
       "2  26.0      0      0   7.9250     0  0  1  0  1\n",
       "3  35.0      1      0  53.1000     0  0  1  0  0\n",
       "4  35.0      0      0   8.0500     1  0  1  0  1"
      ]
     },
     "execution_count": 31,
     "metadata": {},
     "output_type": "execute_result"
    }
   ],
   "source": [
    "X.head()"
   ]
  },
  {
   "cell_type": "code",
   "execution_count": 32,
   "id": "8242fdc8",
   "metadata": {},
   "outputs": [
    {
     "data": {
      "text/plain": [
       "0    0\n",
       "1    1\n",
       "2    1\n",
       "3    1\n",
       "4    0\n",
       "Name: Survived, dtype: int64"
      ]
     },
     "execution_count": 32,
     "metadata": {},
     "output_type": "execute_result"
    }
   ],
   "source": [
    "y.head()"
   ]
  },
  {
   "cell_type": "code",
   "execution_count": 33,
   "id": "7becc70f",
   "metadata": {},
   "outputs": [],
   "source": [
    "from sklearn.model_selection import train_test_split\n",
    "X_train,X_test,y_train,y_test=train_test_split(X,y,test_size=0.2,random_state=0)"
   ]
  },
  {
   "cell_type": "code",
   "execution_count": 34,
   "id": "39f3927a",
   "metadata": {},
   "outputs": [],
   "source": [
    "from sklearn.preprocessing import StandardScaler\n",
    "scaler=StandardScaler()\n",
    "X_train=scaler.fit_transform(X_train)\n",
    "X_test=scaler.fit_transform(X_test)"
   ]
  },
  {
   "cell_type": "code",
   "execution_count": 35,
   "id": "6be4b621",
   "metadata": {},
   "outputs": [
    {
     "data": {
      "text/plain": [
       "array([[-9.73107951e-01,  2.28704586e-01, -4.93741931e-01,\n",
       "        -4.63791409e-01, -1.39326109e+00, -2.04124145e-01,\n",
       "        -1.88293774e+00, -5.46535725e-01,  9.04534034e-01],\n",
       "       [-6.23905698e-01,  2.28704586e-01,  6.81834095e-01,\n",
       "         1.02866832e-01,  7.17740563e-01, -2.04124145e-01,\n",
       "         5.31085005e-01,  1.82970656e+00, -1.10554160e+00],\n",
       "       [-9.73107951e-01, -6.50928437e-01, -4.93741931e-01,\n",
       "        -5.39043573e-01, -1.39326109e+00, -2.04124145e-01,\n",
       "         5.31085005e-01, -5.46535725e-01,  9.04534034e-01],\n",
       "       [-1.74135291e+00,  2.28704586e-01,  1.85741012e+00,\n",
       "         2.10145874e-01, -1.39326109e+00, -2.04124145e-01,\n",
       "        -1.88293774e+00,  1.82970656e+00, -1.10554160e+00],\n",
       "       [ 4.23701062e-01, -6.50928437e-01,  6.81834095e-01,\n",
       "        -2.02584759e-01, -1.39326109e+00, -2.04124145e-01,\n",
       "         5.31085005e-01,  1.82970656e+00, -1.10554160e+00],\n",
       "       [ 4.65835806e-03,  2.28704586e-01, -4.93741931e-01,\n",
       "         1.11187451e+00,  7.17740563e-01, -2.04124145e-01,\n",
       "        -1.88293774e+00, -5.46535725e-01, -1.10554160e+00],\n",
       "       [ 9.82424667e-01, -6.50928437e-01, -4.93741931e-01,\n",
       "        -4.24731370e-01,  7.17740563e-01, -2.04124145e-01,\n",
       "         5.31085005e-01,  1.82970656e+00, -1.10554160e+00],\n",
       "       [ 4.65835806e-03, -6.50928437e-01, -4.93741931e-01,\n",
       "         3.32788575e-01,  7.17740563e-01, -2.04124145e-01,\n",
       "         5.31085005e-01, -5.46535725e-01, -1.10554160e+00],\n",
       "       [-4.14384346e-01, -6.50928437e-01, -4.93741931e-01,\n",
       "        -5.13590015e-01,  7.17740563e-01, -2.04124145e-01,\n",
       "         5.31085005e-01, -5.46535725e-01,  9.04534034e-01],\n",
       "       [ 1.61098872e+00, -6.50928437e-01,  6.81834095e-01,\n",
       "         6.49996165e-01,  7.17740563e-01, -2.04124145e-01,\n",
       "        -1.88293774e+00, -5.46535725e-01, -1.10554160e+00],\n",
       "       [-4.84224796e-01, -6.50928437e-01,  6.81834095e-01,\n",
       "         1.00339366e+00,  7.17740563e-01, -2.04124145e-01,\n",
       "         5.31085005e-01, -5.46535725e-01, -1.10554160e+00],\n",
       "       [ 4.93541512e-01,  2.28704586e-01, -4.93741931e-01,\n",
       "         4.66076542e-01, -1.39326109e+00, -2.04124145e-01,\n",
       "         5.31085005e-01, -5.46535725e-01, -1.10554160e+00],\n",
       "       [-3.44543895e-01,  1.98797063e+00,  1.85741012e+00,\n",
       "         5.12893392e+00, -1.39326109e+00, -2.04124145e-01,\n",
       "         5.31085005e-01, -5.46535725e-01, -1.10554160e+00],\n",
       "       [-1.81119336e+00,  1.98797063e+00,  6.81834095e-01,\n",
       "        -2.45347981e-01,  7.17740563e-01, -2.04124145e-01,\n",
       "         5.31085005e-01, -5.46535725e-01,  9.04534034e-01],\n",
       "       [ 1.44339259e-01, -6.50928437e-01, -4.93741931e-01,\n",
       "        -4.36394067e-01, -1.39326109e+00, -2.04124145e-01,\n",
       "         5.31085005e-01, -5.46535725e-01,  9.04534034e-01],\n",
       "       [ 5.98302188e-01, -6.50928437e-01,  1.85741012e+00,\n",
       "        -1.35940775e-01,  7.17740563e-01, -2.04124145e-01,\n",
       "         5.31085005e-01,  1.82970656e+00, -1.10554160e+00],\n",
       "       [-4.84224796e-01,  1.10833761e+00, -4.93741931e-01,\n",
       "         9.19255630e-01,  7.17740563e-01, -2.04124145e-01,\n",
       "         5.31085005e-01,  1.82970656e+00, -1.10554160e+00],\n",
       "       [ 6.33222414e-01,  2.28704586e-01, -4.93741931e-01,\n",
       "         4.66076542e-01,  7.17740563e-01, -2.04124145e-01,\n",
       "         5.31085005e-01, -5.46535725e-01, -1.10554160e+00],\n",
       "       [-1.35022543e-01,  1.10833761e+00, -4.93741931e-01,\n",
       "        -5.21087463e-01,  7.17740563e-01, -2.04124145e-01,\n",
       "         5.31085005e-01, -5.46535725e-01,  9.04534034e-01],\n",
       "       [-6.51820926e-02, -6.50928437e-01, -4.93741931e-01,\n",
       "        -5.40340910e-01,  7.17740563e-01, -2.04124145e-01,\n",
       "         5.31085005e-01, -5.46535725e-01,  9.04534034e-01],\n",
       "       [ 7.44988087e-02, -6.50928437e-01, -4.93741931e-01,\n",
       "        -5.34693943e-01,  7.17740563e-01, -2.04124145e-01,\n",
       "         5.31085005e-01, -5.46535725e-01,  9.04534034e-01],\n",
       "       [ 9.82424667e-01,  2.28704586e-01, -4.93741931e-01,\n",
       "         4.41640415e-01,  7.17740563e-01, -2.04124145e-01,\n",
       "         5.31085005e-01, -5.46535725e-01, -1.10554160e+00],\n",
       "       [ 4.23701062e-01, -6.50928437e-01, -4.93741931e-01,\n",
       "        -4.24731370e-01,  7.17740563e-01, -2.04124145e-01,\n",
       "         5.31085005e-01,  1.82970656e+00, -1.10554160e+00],\n",
       "       [-2.04862994e-01, -6.50928437e-01, -4.93741931e-01,\n",
       "        -4.24731370e-01,  7.17740563e-01, -2.04124145e-01,\n",
       "         5.31085005e-01,  1.82970656e+00, -1.10554160e+00],\n",
       "       [-5.54065247e-01, -6.50928437e-01, -4.93741931e-01,\n",
       "        -5.34693943e-01,  7.17740563e-01, -2.04124145e-01,\n",
       "         5.31085005e-01, -5.46535725e-01,  9.04534034e-01],\n",
       "       [-4.84224796e-01, -6.50928437e-01, -4.93741931e-01,\n",
       "        -5.37470775e-01,  7.17740563e-01, -2.04124145e-01,\n",
       "         5.31085005e-01, -5.46535725e-01,  9.04534034e-01],\n",
       "       [ 3.00779773e+00, -6.50928437e-01, -4.93741931e-01,\n",
       "         5.63093454e-02,  7.17740563e-01, -2.04124145e-01,\n",
       "        -1.88293774e+00, -5.46535725e-01, -1.10554160e+00],\n",
       "       [-6.23905698e-01, -6.50928437e-01,  1.85741012e+00,\n",
       "        -1.29647362e-01, -1.39326109e+00, -2.04124145e-01,\n",
       "         5.31085005e-01, -5.46535725e-01, -1.10554160e+00],\n",
       "       [ 3.53860611e-01, -6.50928437e-01, -4.93741931e-01,\n",
       "        -5.38119444e-01,  7.17740563e-01, -2.04124145e-01,\n",
       "        -1.88293774e+00, -5.46535725e-01,  9.04534034e-01],\n",
       "       [ 3.18940386e-01, -6.50928437e-01, -4.93741931e-01,\n",
       "        -4.24731370e-01, -1.39326109e+00, -2.04124145e-01,\n",
       "         5.31085005e-01,  1.82970656e+00, -1.10554160e+00],\n",
       "       [ 7.03062864e-01,  2.28704586e-01, -4.93741931e-01,\n",
       "         8.70012390e-01, -1.39326109e+00, -2.04124145e-01,\n",
       "        -1.88293774e+00, -5.46535725e-01, -1.10554160e+00],\n",
       "       [ 4.23701062e-01,  2.28704586e-01, -4.93741931e-01,\n",
       "        -1.35940775e-01,  7.17740563e-01, -2.04124145e-01,\n",
       "         5.31085005e-01,  1.82970656e+00, -1.10554160e+00],\n",
       "       [ 3.95785834e-02, -6.50928437e-01, -4.93741931e-01,\n",
       "        -5.52927737e-01,  7.17740563e-01, -2.04124145e-01,\n",
       "        -1.88293774e+00, -5.46535725e-01,  9.04534034e-01],\n",
       "       [-4.84224796e-01, -6.50928437e-01, -4.93741931e-01,\n",
       "        -4.80268023e-01, -1.39326109e+00, -2.04124145e-01,\n",
       "         5.31085005e-01,  1.82970656e+00, -1.10554160e+00],\n",
       "       [ 4.93541512e-01, -6.50928437e-01, -4.93741931e-01,\n",
       "        -5.34693943e-01,  7.17740563e-01, -2.04124145e-01,\n",
       "         5.31085005e-01, -5.46535725e-01,  9.04534034e-01],\n",
       "       [-1.81119336e+00,  2.86760366e+00,  6.81834095e-01,\n",
       "        -6.65199590e-02,  7.17740563e-01,  4.89897949e+00,\n",
       "        -1.88293774e+00, -5.46535725e-01,  9.04534034e-01],\n",
       "       [ 4.93541512e-01, -6.50928437e-01, -4.93741931e-01,\n",
       "        -1.35940775e-01,  7.17740563e-01, -2.04124145e-01,\n",
       "         5.31085005e-01,  1.82970656e+00, -1.10554160e+00],\n",
       "       [ 2.84020161e-01, -6.50928437e-01, -4.93741931e-01,\n",
       "        -4.80268023e-01,  7.17740563e-01, -2.04124145e-01,\n",
       "         5.31085005e-01,  1.82970656e+00, -1.10554160e+00],\n",
       "       [ 2.58875503e+00, -6.50928437e-01,  6.81834095e-01,\n",
       "         6.63324961e-01,  7.17740563e-01, -2.04124145e-01,\n",
       "        -1.88293774e+00, -5.46535725e-01, -1.10554160e+00],\n",
       "       [ 1.47130782e+00,  2.28704586e-01, -4.93741931e-01,\n",
       "         9.90991213e-01, -1.39326109e+00, -2.04124145e-01,\n",
       "        -1.88293774e+00, -5.46535725e-01, -1.10554160e+00],\n",
       "       [ 1.82051007e+00, -6.50928437e-01, -4.93741931e-01,\n",
       "         4.38585899e-01,  7.17740563e-01, -2.04124145e-01,\n",
       "         5.31085005e-01, -5.46535725e-01, -1.10554160e+00],\n",
       "       [-8.33427049e-01,  3.74723668e+00,  1.85741012e+00,\n",
       "         3.28345643e-01, -1.39326109e+00, -2.04124145e-01,\n",
       "         5.31085005e-01, -5.46535725e-01,  9.04534034e-01],\n",
       "       [-6.23905698e-01, -6.50928437e-01, -4.93741931e-01,\n",
       "        -5.63573002e-01,  7.17740563e-01,  4.89897949e+00,\n",
       "        -1.88293774e+00, -5.46535725e-01,  9.04534034e-01],\n",
       "       [-2.74703444e-01, -6.50928437e-01,  6.81834095e-01,\n",
       "         4.78506874e+00,  7.17740563e-01, -2.04124145e-01,\n",
       "        -1.88293774e+00, -5.46535725e-01, -1.10554160e+00],\n",
       "       [-4.14384346e-01,  2.28704586e-01, -4.93741931e-01,\n",
       "        -5.52465672e-01,  7.17740563e-01, -2.04124145e-01,\n",
       "         5.31085005e-01, -5.46535725e-01,  9.04534034e-01],\n",
       "       [-6.23905698e-01, -6.50928437e-01, -4.93741931e-01,\n",
       "        -5.38488207e-01, -1.39326109e+00,  4.89897949e+00,\n",
       "        -1.88293774e+00, -5.46535725e-01,  9.04534034e-01],\n",
       "       [-4.84224796e-01, -6.50928437e-01, -4.93741931e-01,\n",
       "        -5.34693943e-01,  7.17740563e-01, -2.04124145e-01,\n",
       "         5.31085005e-01, -5.46535725e-01,  9.04534034e-01],\n",
       "       [-1.35022543e-01,  2.28704586e-01, -4.93741931e-01,\n",
       "        -3.92426810e-01,  7.17740563e-01, -2.04124145e-01,\n",
       "        -1.88293774e+00, -5.46535725e-01,  9.04534034e-01],\n",
       "       [-6.93746148e-01,  2.28704586e-01, -4.93741931e-01,\n",
       "        -3.18100997e-01, -1.39326109e+00, -2.04124145e-01,\n",
       "         5.31085005e-01, -5.46535725e-01,  9.04534034e-01],\n",
       "       [-6.23905698e-01,  1.98797063e+00,  1.85741012e+00,\n",
       "         5.12893392e+00,  7.17740563e-01, -2.04124145e-01,\n",
       "         5.31085005e-01, -5.46535725e-01, -1.10554160e+00],\n",
       "       [-3.44543895e-01, -6.50928437e-01,  6.81834095e-01,\n",
       "         6.93961201e-01,  7.17740563e-01, -2.04124145e-01,\n",
       "        -1.88293774e+00, -5.46535725e-01, -1.10554160e+00],\n",
       "       [ 8.42743765e-01,  2.28704586e-01, -4.93741931e-01,\n",
       "        -5.03038051e-01, -1.39326109e+00, -2.04124145e-01,\n",
       "         5.31085005e-01, -5.46535725e-01,  9.04534034e-01],\n",
       "       [ 1.19194602e+00, -6.50928437e-01, -4.93741931e-01,\n",
       "        -5.58574704e-01,  7.17740563e-01, -2.04124145e-01,\n",
       "         5.31085005e-01, -5.46535725e-01,  9.04534034e-01],\n",
       "       [-2.04862994e-01, -6.50928437e-01, -4.93741931e-01,\n",
       "        -5.43579807e-01,  7.17740563e-01, -2.04124145e-01,\n",
       "         5.31085005e-01, -5.46535725e-01,  9.04534034e-01],\n",
       "       [ 3.18940386e-01,  2.28704586e-01, -4.93741931e-01,\n",
       "        -4.55093325e-02,  7.17740563e-01, -2.04124145e-01,\n",
       "        -1.88293774e+00,  1.82970656e+00, -1.10554160e+00],\n",
       "       [-3.44543895e-01, -6.50928437e-01, -4.93741931e-01,\n",
       "        -3.79284616e-01,  7.17740563e-01, -2.04124145e-01,\n",
       "        -1.88293774e+00,  1.82970656e+00, -1.10554160e+00],\n",
       "       [-6.51820926e-02,  2.28704586e-01, -4.93741931e-01,\n",
       "        -2.47014081e-01, -1.39326109e+00, -2.04124145e-01,\n",
       "         5.31085005e-01,  1.82970656e+00, -1.10554160e+00],\n",
       "       [ 7.44988087e-02,  2.28704586e-01, -4.93741931e-01,\n",
       "        -1.35940775e-01, -1.39326109e+00, -2.04124145e-01,\n",
       "         5.31085005e-01,  1.82970656e+00, -1.10554160e+00],\n",
       "       [ 1.89035052e+00, -6.50928437e-01, -4.93741931e-01,\n",
       "        -3.58087387e-01, -1.39326109e+00, -2.04124145e-01,\n",
       "         5.31085005e-01,  1.82970656e+00, -1.10554160e+00],\n",
       "       [-9.38187725e-01,  2.28704586e-01, -4.93741931e-01,\n",
       "        -3.92426810e-01, -1.39326109e+00, -2.04124145e-01,\n",
       "        -1.88293774e+00, -5.46535725e-01,  9.04534034e-01],\n",
       "       [-9.03267500e-01, -6.50928437e-01, -4.93741931e-01,\n",
       "        -5.35156008e-01, -1.39326109e+00,  4.89897949e+00,\n",
       "        -1.88293774e+00, -5.46535725e-01,  9.04534034e-01],\n",
       "       [-6.93746148e-01,  1.10833761e+00, -4.93741931e-01,\n",
       "        -3.13658064e-01, -1.39326109e+00, -2.04124145e-01,\n",
       "         5.31085005e-01, -5.46535725e-01,  9.04534034e-01],\n",
       "       [-6.23905698e-01, -6.50928437e-01, -4.93741931e-01,\n",
       "        -5.32288095e-01,  7.17740563e-01, -2.04124145e-01,\n",
       "         5.31085005e-01, -5.46535725e-01,  9.04534034e-01],\n",
       "       [-4.84224796e-01, -6.50928437e-01, -4.93741931e-01,\n",
       "        -5.43579807e-01, -1.39326109e+00, -2.04124145e-01,\n",
       "         5.31085005e-01, -5.46535725e-01,  9.04534034e-01],\n",
       "       [-4.14384346e-01,  2.28704586e-01, -4.93741931e-01,\n",
       "         7.65974468e-01, -1.39326109e+00, -2.04124145e-01,\n",
       "         5.31085005e-01, -5.46535725e-01, -1.10554160e+00],\n",
       "       [ 8.77663991e-01, -6.50928437e-01,  1.85741012e+00,\n",
       "        -3.91409378e-01,  7.17740563e-01, -2.04124145e-01,\n",
       "         5.31085005e-01, -5.46535725e-01,  9.04534034e-01],\n",
       "       [ 3.53860611e-01, -6.50928437e-01, -4.93741931e-01,\n",
       "        -5.21271845e-01,  7.17740563e-01, -2.04124145e-01,\n",
       "         5.31085005e-01, -5.46535725e-01,  9.04534034e-01],\n",
       "       [-5.54065247e-01, -6.50928437e-01, -4.93741931e-01,\n",
       "        -5.39043573e-01,  7.17740563e-01, -2.04124145e-01,\n",
       "         5.31085005e-01, -5.46535725e-01,  9.04534034e-01],\n",
       "       [ 6.33222414e-01,  1.10833761e+00, -4.93741931e-01,\n",
       "        -5.37470775e-01,  7.17740563e-01, -2.04124145e-01,\n",
       "         5.31085005e-01, -5.46535725e-01,  9.04534034e-01],\n",
       "       [ 4.65835806e-03, -6.50928437e-01, -4.93741931e-01,\n",
       "         7.50985058e-02,  7.17740563e-01, -2.04124145e-01,\n",
       "         5.31085005e-01, -5.46535725e-01, -1.10554160e+00],\n",
       "       [ 1.92527075e+00, -6.50928437e-01, -4.93741931e-01,\n",
       "        -5.34693943e-01,  7.17740563e-01, -2.04124145e-01,\n",
       "         5.31085005e-01, -5.46535725e-01,  9.04534034e-01],\n",
       "       [ 2.16971233e+00, -6.50928437e-01, -4.93741931e-01,\n",
       "        -5.52465672e-01,  7.17740563e-01, -2.04124145e-01,\n",
       "         5.31085005e-01, -5.46535725e-01,  9.04534034e-01],\n",
       "       [ 4.65835806e-03, -6.50928437e-01, -4.93741931e-01,\n",
       "        -5.38119444e-01, -1.39326109e+00, -2.04124145e-01,\n",
       "         5.31085005e-01, -5.46535725e-01,  9.04534034e-01],\n",
       "       [ 2.65859548e+00, -6.50928437e-01, -4.93741931e-01,\n",
       "        -4.80268023e-01,  7.17740563e-01, -2.04124145e-01,\n",
       "         5.31085005e-01,  1.82970656e+00, -1.10554160e+00],\n",
       "       [-4.84224796e-01, -6.50928437e-01, -4.93741931e-01,\n",
       "        -5.40247608e-01,  7.17740563e-01, -2.04124145e-01,\n",
       "         5.31085005e-01, -5.46535725e-01,  9.04534034e-01],\n",
       "       [ 4.65835806e-03, -6.50928437e-01, -4.93741931e-01,\n",
       "        -5.38119444e-01,  7.17740563e-01, -2.04124145e-01,\n",
       "         5.31085005e-01, -5.46535725e-01,  9.04534034e-01],\n",
       "       [-8.33427049e-01, -6.50928437e-01, -4.93741931e-01,\n",
       "        -5.08776098e-01,  7.17740563e-01, -2.04124145e-01,\n",
       "         5.31085005e-01, -5.46535725e-01,  9.04534034e-01],\n",
       "       [ 1.19194602e+00,  2.28704586e-01, -4.93741931e-01,\n",
       "         1.14084687e+00,  7.17740563e-01, -2.04124145e-01,\n",
       "         5.31085005e-01, -5.46535725e-01, -1.10554160e+00],\n",
       "       [-2.74703444e-01,  2.28704586e-01, -4.93741931e-01,\n",
       "        -3.61419586e-01, -1.39326109e+00, -2.04124145e-01,\n",
       "         5.31085005e-01, -5.46535725e-01,  9.04534034e-01],\n",
       "       [ 7.44988087e-02,  2.28704586e-01, -4.93741931e-01,\n",
       "        -1.35940775e-01, -1.39326109e+00, -2.04124145e-01,\n",
       "         5.31085005e-01,  1.82970656e+00, -1.10554160e+00],\n",
       "       [-5.54065247e-01, -6.50928437e-01, -4.93741931e-01,\n",
       "        -5.56908604e-01,  7.17740563e-01, -2.04124145e-01,\n",
       "         5.31085005e-01, -5.46535725e-01,  9.04534034e-01],\n",
       "       [-8.33427049e-01,  2.28704586e-01,  3.03298615e+00,\n",
       "         5.01070120e-02,  7.17740563e-01, -2.04124145e-01,\n",
       "         5.31085005e-01, -5.46535725e-01,  9.04534034e-01],\n",
       "       [-1.89290669e+00, -6.50928437e-01,  1.85741012e+00,\n",
       "        -6.92967916e-02,  7.17740563e-01, -2.04124145e-01,\n",
       "         5.31085005e-01,  1.82970656e+00, -1.10554160e+00],\n",
       "       [ 7.72903315e-01,  2.28704586e-01,  5.38413820e+00,\n",
       "        -1.87584375e-02,  7.17740563e-01, -2.04124145e-01,\n",
       "         5.31085005e-01, -5.46535725e-01,  9.04534034e-01],\n",
       "       [-2.74703444e-01, -6.50928437e-01, -4.93741931e-01,\n",
       "         1.04587920e+00,  7.17740563e-01, -2.04124145e-01,\n",
       "        -1.88293774e+00, -5.46535725e-01, -1.10554160e+00],\n",
       "       [-7.63586599e-01, -6.50928437e-01, -4.93741931e-01,\n",
       "        -3.92335730e-01, -1.39326109e+00, -2.04124145e-01,\n",
       "        -1.88293774e+00, -5.46535725e-01,  9.04534034e-01],\n",
       "       [ 1.26178647e+00,  2.28704586e-01, -4.93741931e-01,\n",
       "         6.45459931e-01,  7.17740563e-01, -2.04124145e-01,\n",
       "         5.31085005e-01, -5.46535725e-01, -1.10554160e+00],\n",
       "       [-5.54065247e-01,  2.28704586e-01, -4.93741931e-01,\n",
       "        -4.95262919e-01, -1.39326109e+00, -2.04124145e-01,\n",
       "         5.31085005e-01, -5.46535725e-01,  9.04534034e-01],\n",
       "       [-1.46199110e+00,  2.86760366e+00,  6.81834095e-01,\n",
       "         1.68122399e-01,  7.17740563e-01, -2.04124145e-01,\n",
       "         5.31085005e-01, -5.46535725e-01,  9.04534034e-01],\n",
       "       [-6.93746148e-01, -6.50928437e-01, -4.93741931e-01,\n",
       "        -4.58053362e-01,  7.17740563e-01, -2.04124145e-01,\n",
       "         5.31085005e-01,  1.82970656e+00, -1.10554160e+00],\n",
       "       [-1.39215065e+00,  1.98797063e+00,  6.81834095e-01,\n",
       "        -2.45347981e-01, -1.39326109e+00, -2.04124145e-01,\n",
       "         5.31085005e-01, -5.46535725e-01,  9.04534034e-01],\n",
       "       [ 7.03062864e-01, -6.50928437e-01, -4.93741931e-01,\n",
       "        -5.38119444e-01,  7.17740563e-01, -2.04124145e-01,\n",
       "         5.31085005e-01, -5.46535725e-01,  9.04534034e-01],\n",
       "       [-1.67151246e+00,  2.28704586e-01,  6.81834095e-01,\n",
       "        -3.42537124e-01, -1.39326109e+00, -2.04124145e-01,\n",
       "         5.31085005e-01, -5.46535725e-01,  9.04534034e-01],\n",
       "       [ 1.33162692e+00,  2.28704586e-01, -4.93741931e-01,\n",
       "        -3.91409378e-01, -1.39326109e+00, -2.04124145e-01,\n",
       "         5.31085005e-01, -5.46535725e-01,  9.04534034e-01],\n",
       "       [ 1.61098872e+00, -6.50928437e-01, -4.93741931e-01,\n",
       "        -4.35283334e-01,  7.17740563e-01, -2.04124145e-01,\n",
       "         5.31085005e-01,  1.82970656e+00, -1.10554160e+00],\n",
       "       [-2.74703444e-01, -6.50928437e-01, -4.93741931e-01,\n",
       "        -5.34693943e-01,  7.17740563e-01, -2.04124145e-01,\n",
       "         5.31085005e-01, -5.46535725e-01,  9.04534034e-01],\n",
       "       [ 3.53860611e-01,  1.98797063e+00, -4.93741931e-01,\n",
       "        -3.61419586e-01, -1.39326109e+00, -2.04124145e-01,\n",
       "         5.31085005e-01, -5.46535725e-01,  9.04534034e-01],\n",
       "       [-1.32231020e+00,  1.10833761e+00,  1.85741012e+00,\n",
       "         5.01070120e-02, -1.39326109e+00, -2.04124145e-01,\n",
       "         5.31085005e-01, -5.46535725e-01,  9.04534034e-01],\n",
       "       [-1.67151246e+00,  1.98797063e+00,  1.85741012e+00,\n",
       "        -9.37329189e-02,  7.17740563e-01, -2.04124145e-01,\n",
       "         5.31085005e-01, -5.46535725e-01,  9.04534034e-01],\n",
       "       [-1.18262930e+00,  3.74723668e+00,  1.85741012e+00,\n",
       "         3.28345643e-01,  7.17740563e-01, -2.04124145e-01,\n",
       "         5.31085005e-01, -5.46535725e-01,  9.04534034e-01]])"
      ]
     },
     "execution_count": 35,
     "metadata": {},
     "output_type": "execute_result"
    }
   ],
   "source": [
    "X_train"
   ]
  },
  {
   "cell_type": "code",
   "execution_count": 36,
   "id": "46d0cd33",
   "metadata": {},
   "outputs": [
    {
     "data": {
      "text/plain": [
       "39     1\n",
       "145    0\n",
       "14     0\n",
       "43     1\n",
       "98     1\n",
       "      ..\n",
       "89     0\n",
       "85     1\n",
       "147    0\n",
       "63     0\n",
       "59     0\n",
       "Name: Survived, Length: 100, dtype: int64"
      ]
     },
     "execution_count": 36,
     "metadata": {},
     "output_type": "execute_result"
    }
   ],
   "source": [
    "y_train"
   ]
  },
  {
   "cell_type": "code",
   "execution_count": 37,
   "id": "033dbad7",
   "metadata": {},
   "outputs": [],
   "source": [
    "from sklearn.linear_model import LogisticRegression"
   ]
  },
  {
   "cell_type": "code",
   "execution_count": 38,
   "id": "710fbb5c",
   "metadata": {},
   "outputs": [],
   "source": [
    "logmodel= LogisticRegression()"
   ]
  },
  {
   "cell_type": "code",
   "execution_count": 39,
   "id": "1bc02405",
   "metadata": {},
   "outputs": [
    {
     "data": {
      "text/plain": [
       "LogisticRegression()"
      ]
     },
     "execution_count": 39,
     "metadata": {},
     "output_type": "execute_result"
    }
   ],
   "source": [
    "logmodel.fit(X_train, y_train)"
   ]
  },
  {
   "cell_type": "code",
   "execution_count": 40,
   "id": "e8ddc298",
   "metadata": {},
   "outputs": [],
   "source": [
    "predictions = logmodel.predict(X_test)"
   ]
  },
  {
   "cell_type": "code",
   "execution_count": 50,
   "id": "a61bacea",
   "metadata": {},
   "outputs": [
    {
     "data": {
      "text/plain": [
       "array([1], dtype=int64)"
      ]
     },
     "execution_count": 50,
     "metadata": {},
     "output_type": "execute_result"
    }
   ],
   "source": [
    "logmodel.predict(scaler.transform([[35.0,1,0,53.1000,0,0,1,0,0]]))"
   ]
  },
  {
   "cell_type": "code",
   "execution_count": 41,
   "id": "85afa071",
   "metadata": {},
   "outputs": [],
   "source": [
    "from sklearn.metrics import classification_report"
   ]
  },
  {
   "cell_type": "code",
   "execution_count": 42,
   "id": "2f463064",
   "metadata": {},
   "outputs": [],
   "source": [
    "report=classification_report(y_test,predictions)"
   ]
  },
  {
   "cell_type": "code",
   "execution_count": 43,
   "id": "c75896cd",
   "metadata": {},
   "outputs": [
    {
     "name": "stdout",
     "output_type": "stream",
     "text": [
      "              precision    recall  f1-score   support\n",
      "\n",
      "           0       0.55      1.00      0.71        11\n",
      "           1       1.00      0.36      0.53        14\n",
      "\n",
      "    accuracy                           0.64        25\n",
      "   macro avg       0.78      0.68      0.62        25\n",
      "weighted avg       0.80      0.64      0.61        25\n",
      "\n"
     ]
    }
   ],
   "source": [
    "print(report)"
   ]
  },
  {
   "cell_type": "code",
   "execution_count": 44,
   "id": "2557579d",
   "metadata": {},
   "outputs": [],
   "source": [
    "from sklearn.metrics import confusion_matrix"
   ]
  },
  {
   "cell_type": "code",
   "execution_count": 45,
   "id": "5e4b4040",
   "metadata": {},
   "outputs": [
    {
     "data": {
      "text/plain": [
       "array([[11,  0],\n",
       "       [ 9,  5]], dtype=int64)"
      ]
     },
     "execution_count": 45,
     "metadata": {},
     "output_type": "execute_result"
    }
   ],
   "source": [
    "confusion_matrix(y_test,predictions)"
   ]
  },
  {
   "cell_type": "code",
   "execution_count": 47,
   "id": "1fe56afb",
   "metadata": {},
   "outputs": [],
   "source": [
    "from sklearn.metrics import accuracy_score"
   ]
  },
  {
   "cell_type": "code",
   "execution_count": 48,
   "id": "ffa83eca",
   "metadata": {},
   "outputs": [
    {
     "data": {
      "text/plain": [
       "0.64"
      ]
     },
     "execution_count": 48,
     "metadata": {},
     "output_type": "execute_result"
    }
   ],
   "source": [
    "accuracy_score(y_test,predictions)"
   ]
  },
  {
   "cell_type": "markdown",
   "id": "03ec87d5",
   "metadata": {},
   "source": [
    "# ##########################################################"
   ]
  },
  {
   "cell_type": "markdown",
   "id": "7024e4fa",
   "metadata": {},
   "source": [
    "# 2} SUV Prediction\n",
    "\n",
    "Prepared by Mahsa Sadi on 2020 - 06 - 24\n",
    "\n",
    "In this notebook, we perform two steps:\n",
    "\n",
    "1} Reading and visualizng SUV Data\n",
    "\n",
    "2} Modeling SUV data using logistic Regression:\n",
    "   SUV dataset conatins information about customers and whether they   purchase an SUV or not."
   ]
  },
  {
   "cell_type": "code",
   "execution_count": 52,
   "id": "2eb41b54",
   "metadata": {},
   "outputs": [],
   "source": [
    "import pandas as pd\n",
    "import numpy as np\n",
    "import seaborn as sns\n",
    "import matplotlib.pyplot as plt\n",
    "%matplotlib inline\n",
    "import math\n",
    "import sklearn"
   ]
  },
  {
   "cell_type": "code",
   "execution_count": 53,
   "id": "82f4d398",
   "metadata": {},
   "outputs": [],
   "source": [
    "from sklearn import model_selection\n",
    "from sklearn.linear_model import LogisticRegression\n",
    "from sklearn.metrics import classification_report\n",
    "from sklearn.metrics import accuracy_score\n",
    "from sklearn.metrics import confusion_matrix\n",
    "from sklearn.preprocessing import StandardScaler"
   ]
  },
  {
   "cell_type": "code",
   "execution_count": 54,
   "id": "51141f5b",
   "metadata": {},
   "outputs": [],
   "source": [
    "df= pd.read_csv('suv_data.csv')"
   ]
  },
  {
   "cell_type": "code",
   "execution_count": 55,
   "id": "18d517ca",
   "metadata": {},
   "outputs": [
    {
     "data": {
      "text/html": [
       "<div>\n",
       "<style scoped>\n",
       "    .dataframe tbody tr th:only-of-type {\n",
       "        vertical-align: middle;\n",
       "    }\n",
       "\n",
       "    .dataframe tbody tr th {\n",
       "        vertical-align: top;\n",
       "    }\n",
       "\n",
       "    .dataframe thead th {\n",
       "        text-align: right;\n",
       "    }\n",
       "</style>\n",
       "<table border=\"1\" class=\"dataframe\">\n",
       "  <thead>\n",
       "    <tr style=\"text-align: right;\">\n",
       "      <th></th>\n",
       "      <th>User ID</th>\n",
       "      <th>Gender</th>\n",
       "      <th>Age</th>\n",
       "      <th>EstimatedSalary</th>\n",
       "      <th>Purchased</th>\n",
       "    </tr>\n",
       "  </thead>\n",
       "  <tbody>\n",
       "    <tr>\n",
       "      <th>0</th>\n",
       "      <td>15624510</td>\n",
       "      <td>Male</td>\n",
       "      <td>19</td>\n",
       "      <td>19000</td>\n",
       "      <td>0</td>\n",
       "    </tr>\n",
       "    <tr>\n",
       "      <th>1</th>\n",
       "      <td>15810944</td>\n",
       "      <td>Male</td>\n",
       "      <td>35</td>\n",
       "      <td>20000</td>\n",
       "      <td>0</td>\n",
       "    </tr>\n",
       "    <tr>\n",
       "      <th>2</th>\n",
       "      <td>15668575</td>\n",
       "      <td>Female</td>\n",
       "      <td>26</td>\n",
       "      <td>43000</td>\n",
       "      <td>0</td>\n",
       "    </tr>\n",
       "    <tr>\n",
       "      <th>3</th>\n",
       "      <td>15603246</td>\n",
       "      <td>Female</td>\n",
       "      <td>27</td>\n",
       "      <td>57000</td>\n",
       "      <td>0</td>\n",
       "    </tr>\n",
       "    <tr>\n",
       "      <th>4</th>\n",
       "      <td>15804002</td>\n",
       "      <td>Male</td>\n",
       "      <td>19</td>\n",
       "      <td>76000</td>\n",
       "      <td>0</td>\n",
       "    </tr>\n",
       "    <tr>\n",
       "      <th>5</th>\n",
       "      <td>15728773</td>\n",
       "      <td>Male</td>\n",
       "      <td>27</td>\n",
       "      <td>58000</td>\n",
       "      <td>0</td>\n",
       "    </tr>\n",
       "    <tr>\n",
       "      <th>6</th>\n",
       "      <td>15598044</td>\n",
       "      <td>Female</td>\n",
       "      <td>27</td>\n",
       "      <td>84000</td>\n",
       "      <td>0</td>\n",
       "    </tr>\n",
       "    <tr>\n",
       "      <th>7</th>\n",
       "      <td>15694829</td>\n",
       "      <td>Female</td>\n",
       "      <td>32</td>\n",
       "      <td>150000</td>\n",
       "      <td>1</td>\n",
       "    </tr>\n",
       "    <tr>\n",
       "      <th>8</th>\n",
       "      <td>15600575</td>\n",
       "      <td>Male</td>\n",
       "      <td>25</td>\n",
       "      <td>33000</td>\n",
       "      <td>0</td>\n",
       "    </tr>\n",
       "    <tr>\n",
       "      <th>9</th>\n",
       "      <td>15727311</td>\n",
       "      <td>Female</td>\n",
       "      <td>35</td>\n",
       "      <td>65000</td>\n",
       "      <td>0</td>\n",
       "    </tr>\n",
       "  </tbody>\n",
       "</table>\n",
       "</div>"
      ],
      "text/plain": [
       "    User ID  Gender  Age  EstimatedSalary  Purchased\n",
       "0  15624510    Male   19            19000          0\n",
       "1  15810944    Male   35            20000          0\n",
       "2  15668575  Female   26            43000          0\n",
       "3  15603246  Female   27            57000          0\n",
       "4  15804002    Male   19            76000          0\n",
       "5  15728773    Male   27            58000          0\n",
       "6  15598044  Female   27            84000          0\n",
       "7  15694829  Female   32           150000          1\n",
       "8  15600575    Male   25            33000          0\n",
       "9  15727311  Female   35            65000          0"
      ]
     },
     "execution_count": 55,
     "metadata": {},
     "output_type": "execute_result"
    }
   ],
   "source": [
    "df.head(10)"
   ]
  },
  {
   "cell_type": "code",
   "execution_count": 56,
   "id": "687bb4d5",
   "metadata": {},
   "outputs": [
    {
     "data": {
      "text/plain": [
       "(400, 5)"
      ]
     },
     "execution_count": 56,
     "metadata": {},
     "output_type": "execute_result"
    }
   ],
   "source": [
    "df.shape"
   ]
  },
  {
   "cell_type": "code",
   "execution_count": 57,
   "id": "9b0f1ee6",
   "metadata": {},
   "outputs": [
    {
     "name": "stdout",
     "output_type": "stream",
     "text": [
      "<class 'pandas.core.frame.DataFrame'>\n",
      "RangeIndex: 400 entries, 0 to 399\n",
      "Data columns (total 5 columns):\n",
      " #   Column           Non-Null Count  Dtype \n",
      "---  ------           --------------  ----- \n",
      " 0   User ID          400 non-null    int64 \n",
      " 1   Gender           400 non-null    object\n",
      " 2   Age              400 non-null    int64 \n",
      " 3   EstimatedSalary  400 non-null    int64 \n",
      " 4   Purchased        400 non-null    int64 \n",
      "dtypes: int64(4), object(1)\n",
      "memory usage: 15.8+ KB\n"
     ]
    }
   ],
   "source": [
    "df.info()"
   ]
  },
  {
   "cell_type": "code",
   "execution_count": 58,
   "id": "b767adfb",
   "metadata": {},
   "outputs": [
    {
     "data": {
      "text/plain": [
       "Purchased\n",
       "0    257\n",
       "1    143\n",
       "dtype: int64"
      ]
     },
     "execution_count": 58,
     "metadata": {},
     "output_type": "execute_result"
    }
   ],
   "source": [
    "df.groupby('Purchased').size()"
   ]
  },
  {
   "cell_type": "code",
   "execution_count": 59,
   "id": "5b0d871f",
   "metadata": {},
   "outputs": [],
   "source": [
    "#remove unwanted \n",
    "df1=df.drop(columns = ['User ID'],axis=1)"
   ]
  },
  {
   "cell_type": "code",
   "execution_count": 60,
   "id": "6e3123cc",
   "metadata": {},
   "outputs": [
    {
     "data": {
      "text/html": [
       "<div>\n",
       "<style scoped>\n",
       "    .dataframe tbody tr th:only-of-type {\n",
       "        vertical-align: middle;\n",
       "    }\n",
       "\n",
       "    .dataframe tbody tr th {\n",
       "        vertical-align: top;\n",
       "    }\n",
       "\n",
       "    .dataframe thead th {\n",
       "        text-align: right;\n",
       "    }\n",
       "</style>\n",
       "<table border=\"1\" class=\"dataframe\">\n",
       "  <thead>\n",
       "    <tr style=\"text-align: right;\">\n",
       "      <th></th>\n",
       "      <th>Gender</th>\n",
       "      <th>Age</th>\n",
       "      <th>EstimatedSalary</th>\n",
       "      <th>Purchased</th>\n",
       "    </tr>\n",
       "  </thead>\n",
       "  <tbody>\n",
       "    <tr>\n",
       "      <th>0</th>\n",
       "      <td>Male</td>\n",
       "      <td>19</td>\n",
       "      <td>19000</td>\n",
       "      <td>0</td>\n",
       "    </tr>\n",
       "    <tr>\n",
       "      <th>1</th>\n",
       "      <td>Male</td>\n",
       "      <td>35</td>\n",
       "      <td>20000</td>\n",
       "      <td>0</td>\n",
       "    </tr>\n",
       "    <tr>\n",
       "      <th>2</th>\n",
       "      <td>Female</td>\n",
       "      <td>26</td>\n",
       "      <td>43000</td>\n",
       "      <td>0</td>\n",
       "    </tr>\n",
       "    <tr>\n",
       "      <th>3</th>\n",
       "      <td>Female</td>\n",
       "      <td>27</td>\n",
       "      <td>57000</td>\n",
       "      <td>0</td>\n",
       "    </tr>\n",
       "    <tr>\n",
       "      <th>4</th>\n",
       "      <td>Male</td>\n",
       "      <td>19</td>\n",
       "      <td>76000</td>\n",
       "      <td>0</td>\n",
       "    </tr>\n",
       "  </tbody>\n",
       "</table>\n",
       "</div>"
      ],
      "text/plain": [
       "   Gender  Age  EstimatedSalary  Purchased\n",
       "0    Male   19            19000          0\n",
       "1    Male   35            20000          0\n",
       "2  Female   26            43000          0\n",
       "3  Female   27            57000          0\n",
       "4    Male   19            76000          0"
      ]
     },
     "execution_count": 60,
     "metadata": {},
     "output_type": "execute_result"
    }
   ],
   "source": [
    "df1.head()"
   ]
  },
  {
   "cell_type": "code",
   "execution_count": 61,
   "id": "5c683fc7",
   "metadata": {},
   "outputs": [
    {
     "data": {
      "text/html": [
       "<div>\n",
       "<style scoped>\n",
       "    .dataframe tbody tr th:only-of-type {\n",
       "        vertical-align: middle;\n",
       "    }\n",
       "\n",
       "    .dataframe tbody tr th {\n",
       "        vertical-align: top;\n",
       "    }\n",
       "\n",
       "    .dataframe thead th {\n",
       "        text-align: right;\n",
       "    }\n",
       "</style>\n",
       "<table border=\"1\" class=\"dataframe\">\n",
       "  <thead>\n",
       "    <tr style=\"text-align: right;\">\n",
       "      <th></th>\n",
       "      <th>Age</th>\n",
       "      <th>EstimatedSalary</th>\n",
       "      <th>Purchased</th>\n",
       "    </tr>\n",
       "  </thead>\n",
       "  <tbody>\n",
       "    <tr>\n",
       "      <th>count</th>\n",
       "      <td>400.000000</td>\n",
       "      <td>400.000000</td>\n",
       "      <td>400.000000</td>\n",
       "    </tr>\n",
       "    <tr>\n",
       "      <th>mean</th>\n",
       "      <td>37.655000</td>\n",
       "      <td>69742.500000</td>\n",
       "      <td>0.357500</td>\n",
       "    </tr>\n",
       "    <tr>\n",
       "      <th>std</th>\n",
       "      <td>10.482877</td>\n",
       "      <td>34096.960282</td>\n",
       "      <td>0.479864</td>\n",
       "    </tr>\n",
       "    <tr>\n",
       "      <th>min</th>\n",
       "      <td>18.000000</td>\n",
       "      <td>15000.000000</td>\n",
       "      <td>0.000000</td>\n",
       "    </tr>\n",
       "    <tr>\n",
       "      <th>25%</th>\n",
       "      <td>29.750000</td>\n",
       "      <td>43000.000000</td>\n",
       "      <td>0.000000</td>\n",
       "    </tr>\n",
       "    <tr>\n",
       "      <th>50%</th>\n",
       "      <td>37.000000</td>\n",
       "      <td>70000.000000</td>\n",
       "      <td>0.000000</td>\n",
       "    </tr>\n",
       "    <tr>\n",
       "      <th>75%</th>\n",
       "      <td>46.000000</td>\n",
       "      <td>88000.000000</td>\n",
       "      <td>1.000000</td>\n",
       "    </tr>\n",
       "    <tr>\n",
       "      <th>max</th>\n",
       "      <td>60.000000</td>\n",
       "      <td>150000.000000</td>\n",
       "      <td>1.000000</td>\n",
       "    </tr>\n",
       "  </tbody>\n",
       "</table>\n",
       "</div>"
      ],
      "text/plain": [
       "              Age  EstimatedSalary   Purchased\n",
       "count  400.000000       400.000000  400.000000\n",
       "mean    37.655000     69742.500000    0.357500\n",
       "std     10.482877     34096.960282    0.479864\n",
       "min     18.000000     15000.000000    0.000000\n",
       "25%     29.750000     43000.000000    0.000000\n",
       "50%     37.000000     70000.000000    0.000000\n",
       "75%     46.000000     88000.000000    1.000000\n",
       "max     60.000000    150000.000000    1.000000"
      ]
     },
     "execution_count": 61,
     "metadata": {},
     "output_type": "execute_result"
    }
   ],
   "source": [
    "df1.describe()"
   ]
  },
  {
   "cell_type": "markdown",
   "id": "976460a3",
   "metadata": {},
   "source": [
    "# Visualizing Data"
   ]
  },
  {
   "cell_type": "code",
   "execution_count": 62,
   "id": "d98bbc15",
   "metadata": {},
   "outputs": [
    {
     "data": {
      "text/plain": [
       "<AxesSubplot:xlabel='Purchased', ylabel='count'>"
      ]
     },
     "execution_count": 62,
     "metadata": {},
     "output_type": "execute_result"
    },
    {
     "data": {
      "image/png": "[encoded data removed]",
      "text/plain": [
       "<Figure size 432x288 with 1 Axes>"
      ]
     },
     "metadata": {
      "needs_background": "light"
     },
     "output_type": "display_data"
    }
   ],
   "source": [
    "sns.countplot(x='Purchased', data=df1)"
   ]
  },
  {
   "cell_type": "code",
   "execution_count": 63,
   "id": "e1b71289",
   "metadata": {},
   "outputs": [
    {
     "data": {
      "text/plain": [
       "<AxesSubplot:xlabel='Purchased', ylabel='count'>"
      ]
     },
     "execution_count": 63,
     "metadata": {},
     "output_type": "execute_result"
    },
    {
     "data": {
      "image/png": "[encoded data removed]",
      "text/plain": [
       "<Figure size 432x288 with 1 Axes>"
      ]
     },
     "metadata": {
      "needs_background": "light"
     },
     "output_type": "display_data"
    }
   ],
   "source": [
    "sns.countplot(x= 'Purchased', hue= 'Gender', data = df1)"
   ]
  },
  {
   "cell_type": "code",
   "execution_count": 64,
   "id": "dfbb4770",
   "metadata": {},
   "outputs": [
    {
     "data": {
      "text/plain": [
       "<AxesSubplot:>"
      ]
     },
     "execution_count": 64,
     "metadata": {},
     "output_type": "execute_result"
    },
    {
     "data": {
      "image/png": "[encoded data removed]",
      "text/plain": [
       "<Figure size 432x288 with 1 Axes>"
      ]
     },
     "metadata": {
      "needs_background": "light"
     },
     "output_type": "display_data"
    }
   ],
   "source": [
    "df1['Age'].hist(bins=20)"
   ]
  },
  {
   "cell_type": "code",
   "execution_count": 65,
   "id": "cff6fb72",
   "metadata": {},
   "outputs": [
    {
     "data": {
      "text/html": [
       "<div>\n",
       "<style scoped>\n",
       "    .dataframe tbody tr th:only-of-type {\n",
       "        vertical-align: middle;\n",
       "    }\n",
       "\n",
       "    .dataframe tbody tr th {\n",
       "        vertical-align: top;\n",
       "    }\n",
       "\n",
       "    .dataframe thead th {\n",
       "        text-align: right;\n",
       "    }\n",
       "</style>\n",
       "<table border=\"1\" class=\"dataframe\">\n",
       "  <thead>\n",
       "    <tr style=\"text-align: right;\">\n",
       "      <th></th>\n",
       "      <th>Gender</th>\n",
       "      <th>Age</th>\n",
       "      <th>EstimatedSalary</th>\n",
       "      <th>Purchased</th>\n",
       "      <th>AgeCategory</th>\n",
       "    </tr>\n",
       "  </thead>\n",
       "  <tbody>\n",
       "    <tr>\n",
       "      <th>0</th>\n",
       "      <td>Male</td>\n",
       "      <td>19</td>\n",
       "      <td>19000</td>\n",
       "      <td>0</td>\n",
       "      <td>A</td>\n",
       "    </tr>\n",
       "    <tr>\n",
       "      <th>1</th>\n",
       "      <td>Male</td>\n",
       "      <td>35</td>\n",
       "      <td>20000</td>\n",
       "      <td>0</td>\n",
       "      <td>D</td>\n",
       "    </tr>\n",
       "    <tr>\n",
       "      <th>2</th>\n",
       "      <td>Female</td>\n",
       "      <td>26</td>\n",
       "      <td>43000</td>\n",
       "      <td>0</td>\n",
       "      <td>B</td>\n",
       "    </tr>\n",
       "    <tr>\n",
       "      <th>3</th>\n",
       "      <td>Female</td>\n",
       "      <td>27</td>\n",
       "      <td>57000</td>\n",
       "      <td>0</td>\n",
       "      <td>C</td>\n",
       "    </tr>\n",
       "    <tr>\n",
       "      <th>4</th>\n",
       "      <td>Male</td>\n",
       "      <td>19</td>\n",
       "      <td>76000</td>\n",
       "      <td>0</td>\n",
       "      <td>A</td>\n",
       "    </tr>\n",
       "  </tbody>\n",
       "</table>\n",
       "</div>"
      ],
      "text/plain": [
       "   Gender  Age  EstimatedSalary  Purchased AgeCategory\n",
       "0    Male   19            19000          0           A\n",
       "1    Male   35            20000          0           D\n",
       "2  Female   26            43000          0           B\n",
       "3  Female   27            57000          0           C\n",
       "4    Male   19            76000          0           A"
      ]
     },
     "execution_count": 65,
     "metadata": {},
     "output_type": "execute_result"
    }
   ],
   "source": [
    "age_category = []\n",
    "for i in range (0, len  (df ['Age'])):\n",
    "    if df1 ['Age'][i] <= 20:\n",
    "        age_category.append ('A');\n",
    "    elif 20 < df1 ['Age'][i] <= 26:\n",
    "        age_category.append ('B');\n",
    "    elif 26 < df1 ['Age'][i] <= 30:\n",
    "        age_category.append ('C');\n",
    "    elif 30 < df1 ['Age'][i] <= 40:\n",
    "        age_category.append ('D');\n",
    "    elif 40 < df1 ['Age'][i] <= 50:\n",
    "        age_category.append ('E');\n",
    "    else:\n",
    "        age_category.append ('F');\n",
    "\n",
    "age_df = pd.DataFrame (data = age_category, columns = ['AgeCategory'])\n",
    "augu_df = pd.concat([df1, age_df], axis = 1)\n",
    "augu_df.head()"
   ]
  },
  {
   "cell_type": "code",
   "execution_count": 66,
   "id": "24189394",
   "metadata": {},
   "outputs": [
    {
     "data": {
      "text/plain": [
       "AgeCategory\n",
       "A     19\n",
       "B     46\n",
       "C     46\n",
       "D    142\n",
       "E     98\n",
       "F     49\n",
       "dtype: int64"
      ]
     },
     "execution_count": 66,
     "metadata": {},
     "output_type": "execute_result"
    }
   ],
   "source": [
    "augu_df.groupby('AgeCategory').size()"
   ]
  },
  {
   "cell_type": "code",
   "execution_count": 67,
   "id": "fade83cd",
   "metadata": {},
   "outputs": [
    {
     "data": {
      "text/plain": [
       "<AxesSubplot:xlabel='Purchased', ylabel='count'>"
      ]
     },
     "execution_count": 67,
     "metadata": {},
     "output_type": "execute_result"
    },
    {
     "data": {
      "image/png": "[encoded data removed]",
      "text/plain": [
       "<Figure size 432x288 with 1 Axes>"
      ]
     },
     "metadata": {
      "needs_background": "light"
     },
     "output_type": "display_data"
    }
   ],
   "source": [
    "sns.countplot ( x = 'Purchased', hue = 'AgeCategory', data = augu_df)"
   ]
  },
  {
   "cell_type": "markdown",
   "id": "b6245f19",
   "metadata": {},
   "source": [
    "## => People younger than 20 year old don't buy a SUV.\n",
    "## => People between 20 and 26 years old don't buy SUV.\n",
    "## => People younger than 26 don't buy SUVs.\n",
    "## => Most of the people buying SUV are between 40 to 60 years old."
   ]
  },
  {
   "cell_type": "code",
   "execution_count": 68,
   "id": "1d6f676d",
   "metadata": {},
   "outputs": [
    {
     "data": {
      "text/plain": [
       "<AxesSubplot:>"
      ]
     },
     "execution_count": 68,
     "metadata": {},
     "output_type": "execute_result"
    },
    {
     "data": {
      "image/png": "[encoded data removed]",
      "text/plain": [
       "<Figure size 432x288 with 1 Axes>"
      ]
     },
     "metadata": {
      "needs_background": "light"
     },
     "output_type": "display_data"
    }
   ],
   "source": [
    "df ['EstimatedSalary'].hist(bins = 20)"
   ]
  },
  {
   "cell_type": "code",
   "execution_count": 69,
   "id": "6b04a53a",
   "metadata": {
    "scrolled": true
   },
   "outputs": [
    {
     "data": {
      "text/html": [
       "<div>\n",
       "<style scoped>\n",
       "    .dataframe tbody tr th:only-of-type {\n",
       "        vertical-align: middle;\n",
       "    }\n",
       "\n",
       "    .dataframe tbody tr th {\n",
       "        vertical-align: top;\n",
       "    }\n",
       "\n",
       "    .dataframe thead th {\n",
       "        text-align: right;\n",
       "    }\n",
       "</style>\n",
       "<table border=\"1\" class=\"dataframe\">\n",
       "  <thead>\n",
       "    <tr style=\"text-align: right;\">\n",
       "      <th></th>\n",
       "      <th>Gender</th>\n",
       "      <th>Age</th>\n",
       "      <th>EstimatedSalary</th>\n",
       "      <th>Purchased</th>\n",
       "      <th>AgeCategory</th>\n",
       "      <th>IncomeCategory</th>\n",
       "    </tr>\n",
       "  </thead>\n",
       "  <tbody>\n",
       "    <tr>\n",
       "      <th>0</th>\n",
       "      <td>Male</td>\n",
       "      <td>19</td>\n",
       "      <td>19000</td>\n",
       "      <td>0</td>\n",
       "      <td>A</td>\n",
       "      <td>Very Low</td>\n",
       "    </tr>\n",
       "    <tr>\n",
       "      <th>1</th>\n",
       "      <td>Male</td>\n",
       "      <td>35</td>\n",
       "      <td>20000</td>\n",
       "      <td>0</td>\n",
       "      <td>D</td>\n",
       "      <td>Low</td>\n",
       "    </tr>\n",
       "    <tr>\n",
       "      <th>2</th>\n",
       "      <td>Female</td>\n",
       "      <td>26</td>\n",
       "      <td>43000</td>\n",
       "      <td>0</td>\n",
       "      <td>B</td>\n",
       "      <td>Moderately Low</td>\n",
       "    </tr>\n",
       "    <tr>\n",
       "      <th>3</th>\n",
       "      <td>Female</td>\n",
       "      <td>27</td>\n",
       "      <td>57000</td>\n",
       "      <td>0</td>\n",
       "      <td>C</td>\n",
       "      <td>Moderately Low</td>\n",
       "    </tr>\n",
       "    <tr>\n",
       "      <th>4</th>\n",
       "      <td>Male</td>\n",
       "      <td>19</td>\n",
       "      <td>76000</td>\n",
       "      <td>0</td>\n",
       "      <td>A</td>\n",
       "      <td>Medium</td>\n",
       "    </tr>\n",
       "  </tbody>\n",
       "</table>\n",
       "</div>"
      ],
      "text/plain": [
       "   Gender  Age  EstimatedSalary  Purchased AgeCategory  IncomeCategory\n",
       "0    Male   19            19000          0           A        Very Low\n",
       "1    Male   35            20000          0           D             Low\n",
       "2  Female   26            43000          0           B  Moderately Low\n",
       "3  Female   27            57000          0           C  Moderately Low\n",
       "4    Male   19            76000          0           A          Medium"
      ]
     },
     "execution_count": 69,
     "metadata": {},
     "output_type": "execute_result"
    }
   ],
   "source": [
    "income_category = []\n",
    "for i in range (0, len  (df ['EstimatedSalary'])):\n",
    "    if df1 ['EstimatedSalary'][i] <= 19500:\n",
    "        income_category.append ('Very Low');\n",
    "    elif 19500 < df1 ['EstimatedSalary'][i] <= 40000:\n",
    "        income_category.append ('Low');\n",
    "    elif 40000 < df1 ['EstimatedSalary'][i] <= 60000:\n",
    "        income_category.append ('Moderately Low');\n",
    "    elif 60000 < df1 ['EstimatedSalary'][i] <= 80000:\n",
    "        income_category.append ('Medium');\n",
    "    elif 80000 < df1 ['EstimatedSalary'][i] <= 100000:\n",
    "        income_category.append ('Moderately high');\n",
    "    elif 100000 < df1 ['EstimatedSalary'][i] <= 130000:\n",
    "        income_category.append ('Very High');\n",
    "    elif 130000 < df1 ['EstimatedSalary'][i] <= 145000:\n",
    "        income_category.append ('Very High');\n",
    "    else:\n",
    "        income_category.append ('Extremely High');\n",
    "\n",
    "income_data_frame = pd.DataFrame (data = income_category, columns = ['IncomeCategory'])\n",
    "augu_df_2 = pd.concat([augu_df, income_data_frame], axis = 1)\n",
    "augu_df_2.head()"
   ]
  },
  {
   "cell_type": "code",
   "execution_count": 70,
   "id": "f729b3cb",
   "metadata": {},
   "outputs": [
    {
     "data": {
      "text/plain": [
       "IncomeCategory   Purchased\n",
       "Extremely High   1             8\n",
       "Low              0            37\n",
       "                 1            35\n",
       "Medium           0            85\n",
       "                 1            13\n",
       "Moderately Low   0            75\n",
       "                 1            12\n",
       "Moderately high  0            34\n",
       "                 1            21\n",
       "Very High        0            11\n",
       "                 1            54\n",
       "Very Low         0            15\n",
       "dtype: int64"
      ]
     },
     "execution_count": 70,
     "metadata": {},
     "output_type": "execute_result"
    }
   ],
   "source": [
    "augu_df_2.groupby(['IncomeCategory','Purchased']).size()"
   ]
  },
  {
   "cell_type": "code",
   "execution_count": 71,
   "id": "2ab3b073",
   "metadata": {},
   "outputs": [
    {
     "data": {
      "text/plain": [
       "<AxesSubplot:xlabel='Purchased', ylabel='count'>"
      ]
     },
     "execution_count": 71,
     "metadata": {},
     "output_type": "execute_result"
    },
    {
     "data": {
      "image/png": "[encoded data removed]",
      "text/plain": [
       "<Figure size 432x288 with 1 Axes>"
      ]
     },
     "metadata": {
      "needs_background": "light"
     },
     "output_type": "display_data"
    }
   ],
   "source": [
    "sns.countplot( x = 'Purchased', hue = 'IncomeCategory', data= augu_df_2)"
   ]
  },
  {
   "cell_type": "markdown",
   "id": "75c4e730",
   "metadata": {},
   "source": [
    "## => People with salary lower than 19000 never buy SUV\n",
    "## => Peple with salary higher than 145000 will buy SUV's\n",
    "## => Majority of people buying SUV's have salaries between 100000 to 130000"
   ]
  },
  {
   "cell_type": "code",
   "execution_count": 72,
   "id": "39e36ccf",
   "metadata": {},
   "outputs": [
    {
     "data": {
      "text/html": [
       "<div>\n",
       "<style scoped>\n",
       "    .dataframe tbody tr th:only-of-type {\n",
       "        vertical-align: middle;\n",
       "    }\n",
       "\n",
       "    .dataframe tbody tr th {\n",
       "        vertical-align: top;\n",
       "    }\n",
       "\n",
       "    .dataframe thead th {\n",
       "        text-align: right;\n",
       "    }\n",
       "</style>\n",
       "<table border=\"1\" class=\"dataframe\">\n",
       "  <thead>\n",
       "    <tr style=\"text-align: right;\">\n",
       "      <th></th>\n",
       "      <th>Male</th>\n",
       "    </tr>\n",
       "  </thead>\n",
       "  <tbody>\n",
       "    <tr>\n",
       "      <th>0</th>\n",
       "      <td>1</td>\n",
       "    </tr>\n",
       "    <tr>\n",
       "      <th>1</th>\n",
       "      <td>1</td>\n",
       "    </tr>\n",
       "    <tr>\n",
       "      <th>2</th>\n",
       "      <td>0</td>\n",
       "    </tr>\n",
       "    <tr>\n",
       "      <th>3</th>\n",
       "      <td>0</td>\n",
       "    </tr>\n",
       "    <tr>\n",
       "      <th>4</th>\n",
       "      <td>1</td>\n",
       "    </tr>\n",
       "  </tbody>\n",
       "</table>\n",
       "</div>"
      ],
      "text/plain": [
       "   Male\n",
       "0     1\n",
       "1     1\n",
       "2     0\n",
       "3     0\n",
       "4     1"
      ]
     },
     "execution_count": 72,
     "metadata": {},
     "output_type": "execute_result"
    }
   ],
   "source": [
    "binary_gender = pd.get_dummies (augu_df_2 ['Gender'],drop_first = True)\n",
    "binary_gender.head ()"
   ]
  },
  {
   "cell_type": "code",
   "execution_count": 73,
   "id": "82f6e25b",
   "metadata": {},
   "outputs": [
    {
     "data": {
      "text/html": [
       "<div>\n",
       "<style scoped>\n",
       "    .dataframe tbody tr th:only-of-type {\n",
       "        vertical-align: middle;\n",
       "    }\n",
       "\n",
       "    .dataframe tbody tr th {\n",
       "        vertical-align: top;\n",
       "    }\n",
       "\n",
       "    .dataframe thead th {\n",
       "        text-align: right;\n",
       "    }\n",
       "</style>\n",
       "<table border=\"1\" class=\"dataframe\">\n",
       "  <thead>\n",
       "    <tr style=\"text-align: right;\">\n",
       "      <th></th>\n",
       "      <th>A</th>\n",
       "      <th>B</th>\n",
       "      <th>C</th>\n",
       "      <th>D</th>\n",
       "      <th>E</th>\n",
       "      <th>F</th>\n",
       "    </tr>\n",
       "  </thead>\n",
       "  <tbody>\n",
       "    <tr>\n",
       "      <th>0</th>\n",
       "      <td>1</td>\n",
       "      <td>0</td>\n",
       "      <td>0</td>\n",
       "      <td>0</td>\n",
       "      <td>0</td>\n",
       "      <td>0</td>\n",
       "    </tr>\n",
       "    <tr>\n",
       "      <th>1</th>\n",
       "      <td>0</td>\n",
       "      <td>0</td>\n",
       "      <td>0</td>\n",
       "      <td>1</td>\n",
       "      <td>0</td>\n",
       "      <td>0</td>\n",
       "    </tr>\n",
       "    <tr>\n",
       "      <th>2</th>\n",
       "      <td>0</td>\n",
       "      <td>1</td>\n",
       "      <td>0</td>\n",
       "      <td>0</td>\n",
       "      <td>0</td>\n",
       "      <td>0</td>\n",
       "    </tr>\n",
       "    <tr>\n",
       "      <th>3</th>\n",
       "      <td>0</td>\n",
       "      <td>0</td>\n",
       "      <td>1</td>\n",
       "      <td>0</td>\n",
       "      <td>0</td>\n",
       "      <td>0</td>\n",
       "    </tr>\n",
       "    <tr>\n",
       "      <th>4</th>\n",
       "      <td>1</td>\n",
       "      <td>0</td>\n",
       "      <td>0</td>\n",
       "      <td>0</td>\n",
       "      <td>0</td>\n",
       "      <td>0</td>\n",
       "    </tr>\n",
       "  </tbody>\n",
       "</table>\n",
       "</div>"
      ],
      "text/plain": [
       "   A  B  C  D  E  F\n",
       "0  1  0  0  0  0  0\n",
       "1  0  0  0  1  0  0\n",
       "2  0  1  0  0  0  0\n",
       "3  0  0  1  0  0  0\n",
       "4  1  0  0  0  0  0"
      ]
     },
     "execution_count": 73,
     "metadata": {},
     "output_type": "execute_result"
    }
   ],
   "source": [
    "binary_age = pd.get_dummies (augu_df_2 ['AgeCategory'])\n",
    "binary_age.head ()"
   ]
  },
  {
   "cell_type": "code",
   "execution_count": 74,
   "id": "231ef0cd",
   "metadata": {},
   "outputs": [
    {
     "data": {
      "text/html": [
       "<div>\n",
       "<style scoped>\n",
       "    .dataframe tbody tr th:only-of-type {\n",
       "        vertical-align: middle;\n",
       "    }\n",
       "\n",
       "    .dataframe tbody tr th {\n",
       "        vertical-align: top;\n",
       "    }\n",
       "\n",
       "    .dataframe thead th {\n",
       "        text-align: right;\n",
       "    }\n",
       "</style>\n",
       "<table border=\"1\" class=\"dataframe\">\n",
       "  <thead>\n",
       "    <tr style=\"text-align: right;\">\n",
       "      <th></th>\n",
       "      <th>Extremely High</th>\n",
       "      <th>Low</th>\n",
       "      <th>Medium</th>\n",
       "      <th>Moderately Low</th>\n",
       "      <th>Moderately high</th>\n",
       "      <th>Very High</th>\n",
       "      <th>Very Low</th>\n",
       "    </tr>\n",
       "  </thead>\n",
       "  <tbody>\n",
       "    <tr>\n",
       "      <th>0</th>\n",
       "      <td>0</td>\n",
       "      <td>0</td>\n",
       "      <td>0</td>\n",
       "      <td>0</td>\n",
       "      <td>0</td>\n",
       "      <td>0</td>\n",
       "      <td>1</td>\n",
       "    </tr>\n",
       "    <tr>\n",
       "      <th>1</th>\n",
       "      <td>0</td>\n",
       "      <td>1</td>\n",
       "      <td>0</td>\n",
       "      <td>0</td>\n",
       "      <td>0</td>\n",
       "      <td>0</td>\n",
       "      <td>0</td>\n",
       "    </tr>\n",
       "    <tr>\n",
       "      <th>2</th>\n",
       "      <td>0</td>\n",
       "      <td>0</td>\n",
       "      <td>0</td>\n",
       "      <td>1</td>\n",
       "      <td>0</td>\n",
       "      <td>0</td>\n",
       "      <td>0</td>\n",
       "    </tr>\n",
       "    <tr>\n",
       "      <th>3</th>\n",
       "      <td>0</td>\n",
       "      <td>0</td>\n",
       "      <td>0</td>\n",
       "      <td>1</td>\n",
       "      <td>0</td>\n",
       "      <td>0</td>\n",
       "      <td>0</td>\n",
       "    </tr>\n",
       "    <tr>\n",
       "      <th>4</th>\n",
       "      <td>0</td>\n",
       "      <td>0</td>\n",
       "      <td>1</td>\n",
       "      <td>0</td>\n",
       "      <td>0</td>\n",
       "      <td>0</td>\n",
       "      <td>0</td>\n",
       "    </tr>\n",
       "  </tbody>\n",
       "</table>\n",
       "</div>"
      ],
      "text/plain": [
       "   Extremely High  Low  Medium  Moderately Low  Moderately high  Very High  \\\n",
       "0               0    0       0               0                0          0   \n",
       "1               0    1       0               0                0          0   \n",
       "2               0    0       0               1                0          0   \n",
       "3               0    0       0               1                0          0   \n",
       "4               0    0       1               0                0          0   \n",
       "\n",
       "   Very Low  \n",
       "0         1  \n",
       "1         0  \n",
       "2         0  \n",
       "3         0  \n",
       "4         0  "
      ]
     },
     "execution_count": 74,
     "metadata": {},
     "output_type": "execute_result"
    }
   ],
   "source": [
    "binary_income = pd.get_dummies (augu_df_2 ['IncomeCategory'])\n",
    "binary_income.head ()"
   ]
  },
  {
   "cell_type": "code",
   "execution_count": 75,
   "id": "702b3a61",
   "metadata": {},
   "outputs": [
    {
     "data": {
      "text/html": [
       "<div>\n",
       "<style scoped>\n",
       "    .dataframe tbody tr th:only-of-type {\n",
       "        vertical-align: middle;\n",
       "    }\n",
       "\n",
       "    .dataframe tbody tr th {\n",
       "        vertical-align: top;\n",
       "    }\n",
       "\n",
       "    .dataframe thead th {\n",
       "        text-align: right;\n",
       "    }\n",
       "</style>\n",
       "<table border=\"1\" class=\"dataframe\">\n",
       "  <thead>\n",
       "    <tr style=\"text-align: right;\">\n",
       "      <th></th>\n",
       "      <th>Gender</th>\n",
       "      <th>Age</th>\n",
       "      <th>EstimatedSalary</th>\n",
       "      <th>Purchased</th>\n",
       "      <th>AgeCategory</th>\n",
       "      <th>IncomeCategory</th>\n",
       "      <th>A</th>\n",
       "      <th>B</th>\n",
       "      <th>C</th>\n",
       "      <th>D</th>\n",
       "      <th>E</th>\n",
       "      <th>F</th>\n",
       "      <th>Male</th>\n",
       "      <th>Extremely High</th>\n",
       "      <th>Low</th>\n",
       "      <th>Medium</th>\n",
       "      <th>Moderately Low</th>\n",
       "      <th>Moderately high</th>\n",
       "      <th>Very High</th>\n",
       "      <th>Very Low</th>\n",
       "    </tr>\n",
       "  </thead>\n",
       "  <tbody>\n",
       "    <tr>\n",
       "      <th>0</th>\n",
       "      <td>Male</td>\n",
       "      <td>19</td>\n",
       "      <td>19000</td>\n",
       "      <td>0</td>\n",
       "      <td>A</td>\n",
       "      <td>Very Low</td>\n",
       "      <td>1</td>\n",
       "      <td>0</td>\n",
       "      <td>0</td>\n",
       "      <td>0</td>\n",
       "      <td>0</td>\n",
       "      <td>0</td>\n",
       "      <td>1</td>\n",
       "      <td>0</td>\n",
       "      <td>0</td>\n",
       "      <td>0</td>\n",
       "      <td>0</td>\n",
       "      <td>0</td>\n",
       "      <td>0</td>\n",
       "      <td>1</td>\n",
       "    </tr>\n",
       "    <tr>\n",
       "      <th>1</th>\n",
       "      <td>Male</td>\n",
       "      <td>35</td>\n",
       "      <td>20000</td>\n",
       "      <td>0</td>\n",
       "      <td>D</td>\n",
       "      <td>Low</td>\n",
       "      <td>0</td>\n",
       "      <td>0</td>\n",
       "      <td>0</td>\n",
       "      <td>1</td>\n",
       "      <td>0</td>\n",
       "      <td>0</td>\n",
       "      <td>1</td>\n",
       "      <td>0</td>\n",
       "      <td>1</td>\n",
       "      <td>0</td>\n",
       "      <td>0</td>\n",
       "      <td>0</td>\n",
       "      <td>0</td>\n",
       "      <td>0</td>\n",
       "    </tr>\n",
       "    <tr>\n",
       "      <th>2</th>\n",
       "      <td>Female</td>\n",
       "      <td>26</td>\n",
       "      <td>43000</td>\n",
       "      <td>0</td>\n",
       "      <td>B</td>\n",
       "      <td>Moderately Low</td>\n",
       "      <td>0</td>\n",
       "      <td>1</td>\n",
       "      <td>0</td>\n",
       "      <td>0</td>\n",
       "      <td>0</td>\n",
       "      <td>0</td>\n",
       "      <td>0</td>\n",
       "      <td>0</td>\n",
       "      <td>0</td>\n",
       "      <td>0</td>\n",
       "      <td>1</td>\n",
       "      <td>0</td>\n",
       "      <td>0</td>\n",
       "      <td>0</td>\n",
       "    </tr>\n",
       "    <tr>\n",
       "      <th>3</th>\n",
       "      <td>Female</td>\n",
       "      <td>27</td>\n",
       "      <td>57000</td>\n",
       "      <td>0</td>\n",
       "      <td>C</td>\n",
       "      <td>Moderately Low</td>\n",
       "      <td>0</td>\n",
       "      <td>0</td>\n",
       "      <td>1</td>\n",
       "      <td>0</td>\n",
       "      <td>0</td>\n",
       "      <td>0</td>\n",
       "      <td>0</td>\n",
       "      <td>0</td>\n",
       "      <td>0</td>\n",
       "      <td>0</td>\n",
       "      <td>1</td>\n",
       "      <td>0</td>\n",
       "      <td>0</td>\n",
       "      <td>0</td>\n",
       "    </tr>\n",
       "    <tr>\n",
       "      <th>4</th>\n",
       "      <td>Male</td>\n",
       "      <td>19</td>\n",
       "      <td>76000</td>\n",
       "      <td>0</td>\n",
       "      <td>A</td>\n",
       "      <td>Medium</td>\n",
       "      <td>1</td>\n",
       "      <td>0</td>\n",
       "      <td>0</td>\n",
       "      <td>0</td>\n",
       "      <td>0</td>\n",
       "      <td>0</td>\n",
       "      <td>1</td>\n",
       "      <td>0</td>\n",
       "      <td>0</td>\n",
       "      <td>1</td>\n",
       "      <td>0</td>\n",
       "      <td>0</td>\n",
       "      <td>0</td>\n",
       "      <td>0</td>\n",
       "    </tr>\n",
       "    <tr>\n",
       "      <th>...</th>\n",
       "      <td>...</td>\n",
       "      <td>...</td>\n",
       "      <td>...</td>\n",
       "      <td>...</td>\n",
       "      <td>...</td>\n",
       "      <td>...</td>\n",
       "      <td>...</td>\n",
       "      <td>...</td>\n",
       "      <td>...</td>\n",
       "      <td>...</td>\n",
       "      <td>...</td>\n",
       "      <td>...</td>\n",
       "      <td>...</td>\n",
       "      <td>...</td>\n",
       "      <td>...</td>\n",
       "      <td>...</td>\n",
       "      <td>...</td>\n",
       "      <td>...</td>\n",
       "      <td>...</td>\n",
       "      <td>...</td>\n",
       "    </tr>\n",
       "    <tr>\n",
       "      <th>395</th>\n",
       "      <td>Female</td>\n",
       "      <td>46</td>\n",
       "      <td>41000</td>\n",
       "      <td>1</td>\n",
       "      <td>E</td>\n",
       "      <td>Moderately Low</td>\n",
       "      <td>0</td>\n",
       "      <td>0</td>\n",
       "      <td>0</td>\n",
       "      <td>0</td>\n",
       "      <td>1</td>\n",
       "      <td>0</td>\n",
       "      <td>0</td>\n",
       "      <td>0</td>\n",
       "      <td>0</td>\n",
       "      <td>0</td>\n",
       "      <td>1</td>\n",
       "      <td>0</td>\n",
       "      <td>0</td>\n",
       "      <td>0</td>\n",
       "    </tr>\n",
       "    <tr>\n",
       "      <th>396</th>\n",
       "      <td>Male</td>\n",
       "      <td>51</td>\n",
       "      <td>23000</td>\n",
       "      <td>1</td>\n",
       "      <td>F</td>\n",
       "      <td>Low</td>\n",
       "      <td>0</td>\n",
       "      <td>0</td>\n",
       "      <td>0</td>\n",
       "      <td>0</td>\n",
       "      <td>0</td>\n",
       "      <td>1</td>\n",
       "      <td>1</td>\n",
       "      <td>0</td>\n",
       "      <td>1</td>\n",
       "      <td>0</td>\n",
       "      <td>0</td>\n",
       "      <td>0</td>\n",
       "      <td>0</td>\n",
       "      <td>0</td>\n",
       "    </tr>\n",
       "    <tr>\n",
       "      <th>397</th>\n",
       "      <td>Female</td>\n",
       "      <td>50</td>\n",
       "      <td>20000</td>\n",
       "      <td>1</td>\n",
       "      <td>E</td>\n",
       "      <td>Low</td>\n",
       "      <td>0</td>\n",
       "      <td>0</td>\n",
       "      <td>0</td>\n",
       "      <td>0</td>\n",
       "      <td>1</td>\n",
       "      <td>0</td>\n",
       "      <td>0</td>\n",
       "      <td>0</td>\n",
       "      <td>1</td>\n",
       "      <td>0</td>\n",
       "      <td>0</td>\n",
       "      <td>0</td>\n",
       "      <td>0</td>\n",
       "      <td>0</td>\n",
       "    </tr>\n",
       "    <tr>\n",
       "      <th>398</th>\n",
       "      <td>Male</td>\n",
       "      <td>36</td>\n",
       "      <td>33000</td>\n",
       "      <td>0</td>\n",
       "      <td>D</td>\n",
       "      <td>Low</td>\n",
       "      <td>0</td>\n",
       "      <td>0</td>\n",
       "      <td>0</td>\n",
       "      <td>1</td>\n",
       "      <td>0</td>\n",
       "      <td>0</td>\n",
       "      <td>1</td>\n",
       "      <td>0</td>\n",
       "      <td>1</td>\n",
       "      <td>0</td>\n",
       "      <td>0</td>\n",
       "      <td>0</td>\n",
       "      <td>0</td>\n",
       "      <td>0</td>\n",
       "    </tr>\n",
       "    <tr>\n",
       "      <th>399</th>\n",
       "      <td>Female</td>\n",
       "      <td>49</td>\n",
       "      <td>36000</td>\n",
       "      <td>1</td>\n",
       "      <td>E</td>\n",
       "      <td>Low</td>\n",
       "      <td>0</td>\n",
       "      <td>0</td>\n",
       "      <td>0</td>\n",
       "      <td>0</td>\n",
       "      <td>1</td>\n",
       "      <td>0</td>\n",
       "      <td>0</td>\n",
       "      <td>0</td>\n",
       "      <td>1</td>\n",
       "      <td>0</td>\n",
       "      <td>0</td>\n",
       "      <td>0</td>\n",
       "      <td>0</td>\n",
       "      <td>0</td>\n",
       "    </tr>\n",
       "  </tbody>\n",
       "</table>\n",
       "<p>400 rows × 20 columns</p>\n",
       "</div>"
      ],
      "text/plain": [
       "     Gender  Age  EstimatedSalary  Purchased AgeCategory  IncomeCategory  A  \\\n",
       "0      Male   19            19000          0           A        Very Low  1   \n",
       "1      Male   35            20000          0           D             Low  0   \n",
       "2    Female   26            43000          0           B  Moderately Low  0   \n",
       "3    Female   27            57000          0           C  Moderately Low  0   \n",
       "4      Male   19            76000          0           A          Medium  1   \n",
       "..      ...  ...              ...        ...         ...             ... ..   \n",
       "395  Female   46            41000          1           E  Moderately Low  0   \n",
       "396    Male   51            23000          1           F             Low  0   \n",
       "397  Female   50            20000          1           E             Low  0   \n",
       "398    Male   36            33000          0           D             Low  0   \n",
       "399  Female   49            36000          1           E             Low  0   \n",
       "\n",
       "     B  C  D  E  F  Male  Extremely High  Low  Medium  Moderately Low  \\\n",
       "0    0  0  0  0  0     1               0    0       0               0   \n",
       "1    0  0  1  0  0     1               0    1       0               0   \n",
       "2    1  0  0  0  0     0               0    0       0               1   \n",
       "3    0  1  0  0  0     0               0    0       0               1   \n",
       "4    0  0  0  0  0     1               0    0       1               0   \n",
       "..  .. .. .. .. ..   ...             ...  ...     ...             ...   \n",
       "395  0  0  0  1  0     0               0    0       0               1   \n",
       "396  0  0  0  0  1     1               0    1       0               0   \n",
       "397  0  0  0  1  0     0               0    1       0               0   \n",
       "398  0  0  1  0  0     1               0    1       0               0   \n",
       "399  0  0  0  1  0     0               0    1       0               0   \n",
       "\n",
       "     Moderately high  Very High  Very Low  \n",
       "0                  0          0         1  \n",
       "1                  0          0         0  \n",
       "2                  0          0         0  \n",
       "3                  0          0         0  \n",
       "4                  0          0         0  \n",
       "..               ...        ...       ...  \n",
       "395                0          0         0  \n",
       "396                0          0         0  \n",
       "397                0          0         0  \n",
       "398                0          0         0  \n",
       "399                0          0         0  \n",
       "\n",
       "[400 rows x 20 columns]"
      ]
     },
     "execution_count": 75,
     "metadata": {},
     "output_type": "execute_result"
    }
   ],
   "source": [
    "# add new columns\n",
    "final_df_1 = pd.concat ([augu_df_2, binary_age, binary_gender, binary_income], axis = 1)\n",
    "final_df_1"
   ]
  },
  {
   "cell_type": "code",
   "execution_count": 76,
   "id": "70928555",
   "metadata": {},
   "outputs": [],
   "source": [
    "final_df_2 = final_df_1.drop (columns = ['Age', 'Gender', 'EstimatedSalary', 'IncomeCategory', 'AgeCategory'], axis = 1)"
   ]
  },
  {
   "cell_type": "code",
   "execution_count": 77,
   "id": "52681207",
   "metadata": {},
   "outputs": [
    {
     "data": {
      "text/html": [
       "<div>\n",
       "<style scoped>\n",
       "    .dataframe tbody tr th:only-of-type {\n",
       "        vertical-align: middle;\n",
       "    }\n",
       "\n",
       "    .dataframe tbody tr th {\n",
       "        vertical-align: top;\n",
       "    }\n",
       "\n",
       "    .dataframe thead th {\n",
       "        text-align: right;\n",
       "    }\n",
       "</style>\n",
       "<table border=\"1\" class=\"dataframe\">\n",
       "  <thead>\n",
       "    <tr style=\"text-align: right;\">\n",
       "      <th></th>\n",
       "      <th>Purchased</th>\n",
       "      <th>A</th>\n",
       "      <th>B</th>\n",
       "      <th>C</th>\n",
       "      <th>D</th>\n",
       "      <th>E</th>\n",
       "      <th>F</th>\n",
       "      <th>Male</th>\n",
       "      <th>Extremely High</th>\n",
       "      <th>Low</th>\n",
       "      <th>Medium</th>\n",
       "      <th>Moderately Low</th>\n",
       "      <th>Moderately high</th>\n",
       "      <th>Very High</th>\n",
       "      <th>Very Low</th>\n",
       "    </tr>\n",
       "  </thead>\n",
       "  <tbody>\n",
       "    <tr>\n",
       "      <th>0</th>\n",
       "      <td>0</td>\n",
       "      <td>1</td>\n",
       "      <td>0</td>\n",
       "      <td>0</td>\n",
       "      <td>0</td>\n",
       "      <td>0</td>\n",
       "      <td>0</td>\n",
       "      <td>1</td>\n",
       "      <td>0</td>\n",
       "      <td>0</td>\n",
       "      <td>0</td>\n",
       "      <td>0</td>\n",
       "      <td>0</td>\n",
       "      <td>0</td>\n",
       "      <td>1</td>\n",
       "    </tr>\n",
       "    <tr>\n",
       "      <th>1</th>\n",
       "      <td>0</td>\n",
       "      <td>0</td>\n",
       "      <td>0</td>\n",
       "      <td>0</td>\n",
       "      <td>1</td>\n",
       "      <td>0</td>\n",
       "      <td>0</td>\n",
       "      <td>1</td>\n",
       "      <td>0</td>\n",
       "      <td>1</td>\n",
       "      <td>0</td>\n",
       "      <td>0</td>\n",
       "      <td>0</td>\n",
       "      <td>0</td>\n",
       "      <td>0</td>\n",
       "    </tr>\n",
       "    <tr>\n",
       "      <th>2</th>\n",
       "      <td>0</td>\n",
       "      <td>0</td>\n",
       "      <td>1</td>\n",
       "      <td>0</td>\n",
       "      <td>0</td>\n",
       "      <td>0</td>\n",
       "      <td>0</td>\n",
       "      <td>0</td>\n",
       "      <td>0</td>\n",
       "      <td>0</td>\n",
       "      <td>0</td>\n",
       "      <td>1</td>\n",
       "      <td>0</td>\n",
       "      <td>0</td>\n",
       "      <td>0</td>\n",
       "    </tr>\n",
       "    <tr>\n",
       "      <th>3</th>\n",
       "      <td>0</td>\n",
       "      <td>0</td>\n",
       "      <td>0</td>\n",
       "      <td>1</td>\n",
       "      <td>0</td>\n",
       "      <td>0</td>\n",
       "      <td>0</td>\n",
       "      <td>0</td>\n",
       "      <td>0</td>\n",
       "      <td>0</td>\n",
       "      <td>0</td>\n",
       "      <td>1</td>\n",
       "      <td>0</td>\n",
       "      <td>0</td>\n",
       "      <td>0</td>\n",
       "    </tr>\n",
       "    <tr>\n",
       "      <th>4</th>\n",
       "      <td>0</td>\n",
       "      <td>1</td>\n",
       "      <td>0</td>\n",
       "      <td>0</td>\n",
       "      <td>0</td>\n",
       "      <td>0</td>\n",
       "      <td>0</td>\n",
       "      <td>1</td>\n",
       "      <td>0</td>\n",
       "      <td>0</td>\n",
       "      <td>1</td>\n",
       "      <td>0</td>\n",
       "      <td>0</td>\n",
       "      <td>0</td>\n",
       "      <td>0</td>\n",
       "    </tr>\n",
       "  </tbody>\n",
       "</table>\n",
       "</div>"
      ],
      "text/plain": [
       "   Purchased  A  B  C  D  E  F  Male  Extremely High  Low  Medium  \\\n",
       "0          0  1  0  0  0  0  0     1               0    0       0   \n",
       "1          0  0  0  0  1  0  0     1               0    1       0   \n",
       "2          0  0  1  0  0  0  0     0               0    0       0   \n",
       "3          0  0  0  1  0  0  0     0               0    0       0   \n",
       "4          0  1  0  0  0  0  0     1               0    0       1   \n",
       "\n",
       "   Moderately Low  Moderately high  Very High  Very Low  \n",
       "0               0                0          0         1  \n",
       "1               0                0          0         0  \n",
       "2               1                0          0         0  \n",
       "3               1                0          0         0  \n",
       "4               0                0          0         0  "
      ]
     },
     "execution_count": 77,
     "metadata": {},
     "output_type": "execute_result"
    }
   ],
   "source": [
    "final_df_2.head()"
   ]
  },
  {
   "cell_type": "markdown",
   "id": "1fb8d152",
   "metadata": {},
   "source": [
    "# Modeling Data\n",
    "## Modeling the data considering all the features available in the dataset"
   ]
  },
  {
   "cell_type": "code",
   "execution_count": 78,
   "id": "14b4eb6f",
   "metadata": {},
   "outputs": [],
   "source": [
    "Y = final_df_2['Purchased']\n",
    "X = final_df_2.drop(columns = ['Purchased'], axis =1)"
   ]
  },
  {
   "cell_type": "code",
   "execution_count": 79,
   "id": "4c37e74d",
   "metadata": {},
   "outputs": [
    {
     "data": {
      "text/html": [
       "<div>\n",
       "<style scoped>\n",
       "    .dataframe tbody tr th:only-of-type {\n",
       "        vertical-align: middle;\n",
       "    }\n",
       "\n",
       "    .dataframe tbody tr th {\n",
       "        vertical-align: top;\n",
       "    }\n",
       "\n",
       "    .dataframe thead th {\n",
       "        text-align: right;\n",
       "    }\n",
       "</style>\n",
       "<table border=\"1\" class=\"dataframe\">\n",
       "  <thead>\n",
       "    <tr style=\"text-align: right;\">\n",
       "      <th></th>\n",
       "      <th>A</th>\n",
       "      <th>B</th>\n",
       "      <th>C</th>\n",
       "      <th>D</th>\n",
       "      <th>E</th>\n",
       "      <th>F</th>\n",
       "      <th>Male</th>\n",
       "      <th>Extremely High</th>\n",
       "      <th>Low</th>\n",
       "      <th>Medium</th>\n",
       "      <th>Moderately Low</th>\n",
       "      <th>Moderately high</th>\n",
       "      <th>Very High</th>\n",
       "      <th>Very Low</th>\n",
       "    </tr>\n",
       "  </thead>\n",
       "  <tbody>\n",
       "    <tr>\n",
       "      <th>0</th>\n",
       "      <td>1</td>\n",
       "      <td>0</td>\n",
       "      <td>0</td>\n",
       "      <td>0</td>\n",
       "      <td>0</td>\n",
       "      <td>0</td>\n",
       "      <td>1</td>\n",
       "      <td>0</td>\n",
       "      <td>0</td>\n",
       "      <td>0</td>\n",
       "      <td>0</td>\n",
       "      <td>0</td>\n",
       "      <td>0</td>\n",
       "      <td>1</td>\n",
       "    </tr>\n",
       "    <tr>\n",
       "      <th>1</th>\n",
       "      <td>0</td>\n",
       "      <td>0</td>\n",
       "      <td>0</td>\n",
       "      <td>1</td>\n",
       "      <td>0</td>\n",
       "      <td>0</td>\n",
       "      <td>1</td>\n",
       "      <td>0</td>\n",
       "      <td>1</td>\n",
       "      <td>0</td>\n",
       "      <td>0</td>\n",
       "      <td>0</td>\n",
       "      <td>0</td>\n",
       "      <td>0</td>\n",
       "    </tr>\n",
       "    <tr>\n",
       "      <th>2</th>\n",
       "      <td>0</td>\n",
       "      <td>1</td>\n",
       "      <td>0</td>\n",
       "      <td>0</td>\n",
       "      <td>0</td>\n",
       "      <td>0</td>\n",
       "      <td>0</td>\n",
       "      <td>0</td>\n",
       "      <td>0</td>\n",
       "      <td>0</td>\n",
       "      <td>1</td>\n",
       "      <td>0</td>\n",
       "      <td>0</td>\n",
       "      <td>0</td>\n",
       "    </tr>\n",
       "    <tr>\n",
       "      <th>3</th>\n",
       "      <td>0</td>\n",
       "      <td>0</td>\n",
       "      <td>1</td>\n",
       "      <td>0</td>\n",
       "      <td>0</td>\n",
       "      <td>0</td>\n",
       "      <td>0</td>\n",
       "      <td>0</td>\n",
       "      <td>0</td>\n",
       "      <td>0</td>\n",
       "      <td>1</td>\n",
       "      <td>0</td>\n",
       "      <td>0</td>\n",
       "      <td>0</td>\n",
       "    </tr>\n",
       "    <tr>\n",
       "      <th>4</th>\n",
       "      <td>1</td>\n",
       "      <td>0</td>\n",
       "      <td>0</td>\n",
       "      <td>0</td>\n",
       "      <td>0</td>\n",
       "      <td>0</td>\n",
       "      <td>1</td>\n",
       "      <td>0</td>\n",
       "      <td>0</td>\n",
       "      <td>1</td>\n",
       "      <td>0</td>\n",
       "      <td>0</td>\n",
       "      <td>0</td>\n",
       "      <td>0</td>\n",
       "    </tr>\n",
       "  </tbody>\n",
       "</table>\n",
       "</div>"
      ],
      "text/plain": [
       "   A  B  C  D  E  F  Male  Extremely High  Low  Medium  Moderately Low  \\\n",
       "0  1  0  0  0  0  0     1               0    0       0               0   \n",
       "1  0  0  0  1  0  0     1               0    1       0               0   \n",
       "2  0  1  0  0  0  0     0               0    0       0               1   \n",
       "3  0  0  1  0  0  0     0               0    0       0               1   \n",
       "4  1  0  0  0  0  0     1               0    0       1               0   \n",
       "\n",
       "   Moderately high  Very High  Very Low  \n",
       "0                0          0         1  \n",
       "1                0          0         0  \n",
       "2                0          0         0  \n",
       "3                0          0         0  \n",
       "4                0          0         0  "
      ]
     },
     "execution_count": 79,
     "metadata": {},
     "output_type": "execute_result"
    }
   ],
   "source": [
    "X.head()"
   ]
  },
  {
   "cell_type": "code",
   "execution_count": 80,
   "id": "c3b5b1f7",
   "metadata": {},
   "outputs": [
    {
     "data": {
      "text/plain": [
       "0    0\n",
       "1    0\n",
       "2    0\n",
       "3    0\n",
       "4    0\n",
       "Name: Purchased, dtype: int64"
      ]
     },
     "execution_count": 80,
     "metadata": {},
     "output_type": "execute_result"
    }
   ],
   "source": [
    "Y.head()"
   ]
  },
  {
   "cell_type": "code",
   "execution_count": 81,
   "id": "94b29a83",
   "metadata": {},
   "outputs": [],
   "source": [
    "test_set_size = 0.2\n",
    "seed = 0"
   ]
  },
  {
   "cell_type": "code",
   "execution_count": 82,
   "id": "2f7a0e2a",
   "metadata": {},
   "outputs": [],
   "source": [
    "X_train, X_test, Y_train, Y_test = model_selection.train_test_split (X,Y, test_size = test_set_size, random_state = seed)"
   ]
  },
  {
   "cell_type": "code",
   "execution_count": 83,
   "id": "756c26cc",
   "metadata": {},
   "outputs": [
    {
     "data": {
      "text/plain": [
       "LogisticRegression(solver='liblinear')"
      ]
     },
     "execution_count": 83,
     "metadata": {},
     "output_type": "execute_result"
    }
   ],
   "source": [
    "model = LogisticRegression(solver = 'liblinear')\n",
    "model.fit (X_train, Y_train)"
   ]
  },
  {
   "cell_type": "code",
   "execution_count": 84,
   "id": "ea83314a",
   "metadata": {},
   "outputs": [
    {
     "data": {
      "text/html": [
       "<div>\n",
       "<style scoped>\n",
       "    .dataframe tbody tr th:only-of-type {\n",
       "        vertical-align: middle;\n",
       "    }\n",
       "\n",
       "    .dataframe tbody tr th {\n",
       "        vertical-align: top;\n",
       "    }\n",
       "\n",
       "    .dataframe thead th {\n",
       "        text-align: right;\n",
       "    }\n",
       "</style>\n",
       "<table border=\"1\" class=\"dataframe\">\n",
       "  <thead>\n",
       "    <tr style=\"text-align: right;\">\n",
       "      <th></th>\n",
       "      <th>A</th>\n",
       "      <th>B</th>\n",
       "      <th>C</th>\n",
       "      <th>D</th>\n",
       "      <th>E</th>\n",
       "      <th>F</th>\n",
       "      <th>Male</th>\n",
       "      <th>Extremely High</th>\n",
       "      <th>Low</th>\n",
       "      <th>Medium</th>\n",
       "      <th>Moderately Low</th>\n",
       "      <th>Moderately high</th>\n",
       "      <th>Very High</th>\n",
       "      <th>Very Low</th>\n",
       "    </tr>\n",
       "  </thead>\n",
       "  <tbody>\n",
       "    <tr>\n",
       "      <th>132</th>\n",
       "      <td>0</td>\n",
       "      <td>0</td>\n",
       "      <td>1</td>\n",
       "      <td>0</td>\n",
       "      <td>0</td>\n",
       "      <td>0</td>\n",
       "      <td>1</td>\n",
       "      <td>0</td>\n",
       "      <td>0</td>\n",
       "      <td>0</td>\n",
       "      <td>0</td>\n",
       "      <td>1</td>\n",
       "      <td>0</td>\n",
       "      <td>0</td>\n",
       "    </tr>\n",
       "    <tr>\n",
       "      <th>309</th>\n",
       "      <td>0</td>\n",
       "      <td>0</td>\n",
       "      <td>0</td>\n",
       "      <td>1</td>\n",
       "      <td>0</td>\n",
       "      <td>0</td>\n",
       "      <td>0</td>\n",
       "      <td>0</td>\n",
       "      <td>0</td>\n",
       "      <td>0</td>\n",
       "      <td>1</td>\n",
       "      <td>0</td>\n",
       "      <td>0</td>\n",
       "      <td>0</td>\n",
       "    </tr>\n",
       "    <tr>\n",
       "      <th>341</th>\n",
       "      <td>0</td>\n",
       "      <td>0</td>\n",
       "      <td>0</td>\n",
       "      <td>1</td>\n",
       "      <td>0</td>\n",
       "      <td>0</td>\n",
       "      <td>1</td>\n",
       "      <td>0</td>\n",
       "      <td>0</td>\n",
       "      <td>1</td>\n",
       "      <td>0</td>\n",
       "      <td>0</td>\n",
       "      <td>0</td>\n",
       "      <td>0</td>\n",
       "    </tr>\n",
       "    <tr>\n",
       "      <th>196</th>\n",
       "      <td>0</td>\n",
       "      <td>0</td>\n",
       "      <td>1</td>\n",
       "      <td>0</td>\n",
       "      <td>0</td>\n",
       "      <td>0</td>\n",
       "      <td>0</td>\n",
       "      <td>0</td>\n",
       "      <td>0</td>\n",
       "      <td>1</td>\n",
       "      <td>0</td>\n",
       "      <td>0</td>\n",
       "      <td>0</td>\n",
       "      <td>0</td>\n",
       "    </tr>\n",
       "    <tr>\n",
       "      <th>246</th>\n",
       "      <td>0</td>\n",
       "      <td>0</td>\n",
       "      <td>0</td>\n",
       "      <td>1</td>\n",
       "      <td>0</td>\n",
       "      <td>0</td>\n",
       "      <td>0</td>\n",
       "      <td>0</td>\n",
       "      <td>0</td>\n",
       "      <td>0</td>\n",
       "      <td>1</td>\n",
       "      <td>0</td>\n",
       "      <td>0</td>\n",
       "      <td>0</td>\n",
       "    </tr>\n",
       "    <tr>\n",
       "      <th>...</th>\n",
       "      <td>...</td>\n",
       "      <td>...</td>\n",
       "      <td>...</td>\n",
       "      <td>...</td>\n",
       "      <td>...</td>\n",
       "      <td>...</td>\n",
       "      <td>...</td>\n",
       "      <td>...</td>\n",
       "      <td>...</td>\n",
       "      <td>...</td>\n",
       "      <td>...</td>\n",
       "      <td>...</td>\n",
       "      <td>...</td>\n",
       "      <td>...</td>\n",
       "    </tr>\n",
       "    <tr>\n",
       "      <th>14</th>\n",
       "      <td>1</td>\n",
       "      <td>0</td>\n",
       "      <td>0</td>\n",
       "      <td>0</td>\n",
       "      <td>0</td>\n",
       "      <td>0</td>\n",
       "      <td>1</td>\n",
       "      <td>0</td>\n",
       "      <td>0</td>\n",
       "      <td>0</td>\n",
       "      <td>0</td>\n",
       "      <td>1</td>\n",
       "      <td>0</td>\n",
       "      <td>0</td>\n",
       "    </tr>\n",
       "    <tr>\n",
       "      <th>363</th>\n",
       "      <td>0</td>\n",
       "      <td>0</td>\n",
       "      <td>0</td>\n",
       "      <td>0</td>\n",
       "      <td>1</td>\n",
       "      <td>0</td>\n",
       "      <td>0</td>\n",
       "      <td>0</td>\n",
       "      <td>0</td>\n",
       "      <td>1</td>\n",
       "      <td>0</td>\n",
       "      <td>0</td>\n",
       "      <td>0</td>\n",
       "      <td>0</td>\n",
       "    </tr>\n",
       "    <tr>\n",
       "      <th>304</th>\n",
       "      <td>0</td>\n",
       "      <td>0</td>\n",
       "      <td>0</td>\n",
       "      <td>1</td>\n",
       "      <td>0</td>\n",
       "      <td>0</td>\n",
       "      <td>0</td>\n",
       "      <td>0</td>\n",
       "      <td>0</td>\n",
       "      <td>0</td>\n",
       "      <td>1</td>\n",
       "      <td>0</td>\n",
       "      <td>0</td>\n",
       "      <td>0</td>\n",
       "    </tr>\n",
       "    <tr>\n",
       "      <th>361</th>\n",
       "      <td>0</td>\n",
       "      <td>0</td>\n",
       "      <td>0</td>\n",
       "      <td>0</td>\n",
       "      <td>0</td>\n",
       "      <td>1</td>\n",
       "      <td>0</td>\n",
       "      <td>0</td>\n",
       "      <td>1</td>\n",
       "      <td>0</td>\n",
       "      <td>0</td>\n",
       "      <td>0</td>\n",
       "      <td>0</td>\n",
       "      <td>0</td>\n",
       "    </tr>\n",
       "    <tr>\n",
       "      <th>329</th>\n",
       "      <td>0</td>\n",
       "      <td>0</td>\n",
       "      <td>0</td>\n",
       "      <td>0</td>\n",
       "      <td>1</td>\n",
       "      <td>0</td>\n",
       "      <td>0</td>\n",
       "      <td>0</td>\n",
       "      <td>0</td>\n",
       "      <td>0</td>\n",
       "      <td>0</td>\n",
       "      <td>0</td>\n",
       "      <td>1</td>\n",
       "      <td>0</td>\n",
       "    </tr>\n",
       "  </tbody>\n",
       "</table>\n",
       "<p>80 rows × 14 columns</p>\n",
       "</div>"
      ],
      "text/plain": [
       "     A  B  C  D  E  F  Male  Extremely High  Low  Medium  Moderately Low  \\\n",
       "132  0  0  1  0  0  0     1               0    0       0               0   \n",
       "309  0  0  0  1  0  0     0               0    0       0               1   \n",
       "341  0  0  0  1  0  0     1               0    0       1               0   \n",
       "196  0  0  1  0  0  0     0               0    0       1               0   \n",
       "246  0  0  0  1  0  0     0               0    0       0               1   \n",
       "..  .. .. .. .. .. ..   ...             ...  ...     ...             ...   \n",
       "14   1  0  0  0  0  0     1               0    0       0               0   \n",
       "363  0  0  0  0  1  0     0               0    0       1               0   \n",
       "304  0  0  0  1  0  0     0               0    0       0               1   \n",
       "361  0  0  0  0  0  1     0               0    1       0               0   \n",
       "329  0  0  0  0  1  0     0               0    0       0               0   \n",
       "\n",
       "     Moderately high  Very High  Very Low  \n",
       "132                1          0         0  \n",
       "309                0          0         0  \n",
       "341                0          0         0  \n",
       "196                0          0         0  \n",
       "246                0          0         0  \n",
       "..               ...        ...       ...  \n",
       "14                 1          0         0  \n",
       "363                0          0         0  \n",
       "304                0          0         0  \n",
       "361                0          0         0  \n",
       "329                0          1         0  \n",
       "\n",
       "[80 rows x 14 columns]"
      ]
     },
     "execution_count": 84,
     "metadata": {},
     "output_type": "execute_result"
    }
   ],
   "source": [
    "X_test"
   ]
  },
  {
   "cell_type": "code",
   "execution_count": 85,
   "id": "da177acc",
   "metadata": {},
   "outputs": [],
   "source": [
    "predictions = model.predict (X_test)"
   ]
  },
  {
   "cell_type": "code",
   "execution_count": 86,
   "id": "d5596a69",
   "metadata": {},
   "outputs": [
    {
     "name": "stdout",
     "output_type": "stream",
     "text": [
      "              precision    recall  f1-score   support\n",
      "\n",
      "           0       0.97      0.97      0.97        58\n",
      "           1       0.91      0.91      0.91        22\n",
      "\n",
      "    accuracy                           0.95        80\n",
      "   macro avg       0.94      0.94      0.94        80\n",
      "weighted avg       0.95      0.95      0.95        80\n",
      "\n"
     ]
    }
   ],
   "source": [
    "report = classification_report (Y_test, predictions)\n",
    "print (report)"
   ]
  },
  {
   "cell_type": "code",
   "execution_count": 87,
   "id": "11f97a18",
   "metadata": {},
   "outputs": [
    {
     "name": "stdout",
     "output_type": "stream",
     "text": [
      "[[56  2]\n",
      " [ 2 20]]\n"
     ]
    }
   ],
   "source": [
    "print (confusion_matrix (Y_test, predictions))"
   ]
  },
  {
   "cell_type": "code",
   "execution_count": 88,
   "id": "5eaa5c4f",
   "metadata": {},
   "outputs": [
    {
     "data": {
      "text/plain": [
       "0.95"
      ]
     },
     "execution_count": 88,
     "metadata": {},
     "output_type": "execute_result"
    }
   ],
   "source": [
    "accuracy_score (Y_test, predictions)"
   ]
  },
  {
   "cell_type": "markdown",
   "id": "68342c62",
   "metadata": {},
   "source": [
    "### Modeling the data considering some of the features available in the dataset"
   ]
  },
  {
   "cell_type": "code",
   "execution_count": 89,
   "id": "3024dec1",
   "metadata": {},
   "outputs": [],
   "source": [
    "Y = df.iloc [:, 4]\n",
    "X = df.iloc [:, 2:4]"
   ]
  },
  {
   "cell_type": "code",
   "execution_count": 107,
   "id": "c50db1f7",
   "metadata": {},
   "outputs": [
    {
     "data": {
      "text/html": [
       "<div>\n",
       "<style scoped>\n",
       "    .dataframe tbody tr th:only-of-type {\n",
       "        vertical-align: middle;\n",
       "    }\n",
       "\n",
       "    .dataframe tbody tr th {\n",
       "        vertical-align: top;\n",
       "    }\n",
       "\n",
       "    .dataframe thead th {\n",
       "        text-align: right;\n",
       "    }\n",
       "</style>\n",
       "<table border=\"1\" class=\"dataframe\">\n",
       "  <thead>\n",
       "    <tr style=\"text-align: right;\">\n",
       "      <th></th>\n",
       "      <th>Age</th>\n",
       "      <th>EstimatedSalary</th>\n",
       "    </tr>\n",
       "  </thead>\n",
       "  <tbody>\n",
       "    <tr>\n",
       "      <th>0</th>\n",
       "      <td>19</td>\n",
       "      <td>19000</td>\n",
       "    </tr>\n",
       "    <tr>\n",
       "      <th>1</th>\n",
       "      <td>35</td>\n",
       "      <td>20000</td>\n",
       "    </tr>\n",
       "    <tr>\n",
       "      <th>2</th>\n",
       "      <td>26</td>\n",
       "      <td>43000</td>\n",
       "    </tr>\n",
       "    <tr>\n",
       "      <th>3</th>\n",
       "      <td>27</td>\n",
       "      <td>57000</td>\n",
       "    </tr>\n",
       "    <tr>\n",
       "      <th>4</th>\n",
       "      <td>19</td>\n",
       "      <td>76000</td>\n",
       "    </tr>\n",
       "    <tr>\n",
       "      <th>5</th>\n",
       "      <td>27</td>\n",
       "      <td>58000</td>\n",
       "    </tr>\n",
       "    <tr>\n",
       "      <th>6</th>\n",
       "      <td>27</td>\n",
       "      <td>84000</td>\n",
       "    </tr>\n",
       "    <tr>\n",
       "      <th>7</th>\n",
       "      <td>32</td>\n",
       "      <td>150000</td>\n",
       "    </tr>\n",
       "    <tr>\n",
       "      <th>8</th>\n",
       "      <td>25</td>\n",
       "      <td>33000</td>\n",
       "    </tr>\n",
       "    <tr>\n",
       "      <th>9</th>\n",
       "      <td>35</td>\n",
       "      <td>65000</td>\n",
       "    </tr>\n",
       "  </tbody>\n",
       "</table>\n",
       "</div>"
      ],
      "text/plain": [
       "   Age  EstimatedSalary\n",
       "0   19            19000\n",
       "1   35            20000\n",
       "2   26            43000\n",
       "3   27            57000\n",
       "4   19            76000\n",
       "5   27            58000\n",
       "6   27            84000\n",
       "7   32           150000\n",
       "8   25            33000\n",
       "9   35            65000"
      ]
     },
     "execution_count": 107,
     "metadata": {},
     "output_type": "execute_result"
    }
   ],
   "source": [
    "X.head(10)"
   ]
  },
  {
   "cell_type": "code",
   "execution_count": 106,
   "id": "eecdbe4b",
   "metadata": {},
   "outputs": [
    {
     "data": {
      "text/plain": [
       "0    0\n",
       "1    0\n",
       "2    0\n",
       "3    0\n",
       "4    0\n",
       "5    0\n",
       "6    0\n",
       "7    1\n",
       "8    0\n",
       "9    0\n",
       "Name: Purchased, dtype: int64"
      ]
     },
     "execution_count": 106,
     "metadata": {},
     "output_type": "execute_result"
    }
   ],
   "source": [
    "Y.head(10)"
   ]
  },
  {
   "cell_type": "code",
   "execution_count": 92,
   "id": "7dedfd0c",
   "metadata": {},
   "outputs": [],
   "source": [
    "x=X[\"Age\"]"
   ]
  },
  {
   "cell_type": "code",
   "execution_count": 93,
   "id": "3f9e2626",
   "metadata": {},
   "outputs": [
    {
     "data": {
      "text/plain": [
       "<AxesSubplot:xlabel='Age', ylabel='Purchased'>"
      ]
     },
     "execution_count": 93,
     "metadata": {},
     "output_type": "execute_result"
    },
    {
     "data": {
      "image/png": "[encoded data removed]",
      "text/plain": [
       "<Figure size 432x288 with 1 Axes>"
      ]
     },
     "metadata": {
      "needs_background": "light"
     },
     "output_type": "display_data"
    }
   ],
   "source": [
    "sns.regplot(x=x, y=Y, data=df, logistic=True, ci=None)"
   ]
  },
  {
   "cell_type": "code",
   "execution_count": 94,
   "id": "771c80f6",
   "metadata": {},
   "outputs": [],
   "source": [
    "x1=X['EstimatedSalary']"
   ]
  },
  {
   "cell_type": "code",
   "execution_count": 95,
   "id": "79458294",
   "metadata": {},
   "outputs": [
    {
     "data": {
      "text/plain": [
       "<AxesSubplot:xlabel='EstimatedSalary', ylabel='Purchased'>"
      ]
     },
     "execution_count": 95,
     "metadata": {},
     "output_type": "execute_result"
    },
    {
     "data": {
      "image/png": "[encoded data removed]",
      "text/plain": [
       "<Figure size 432x288 with 1 Axes>"
      ]
     },
     "metadata": {
      "needs_background": "light"
     },
     "output_type": "display_data"
    }
   ],
   "source": [
    "sns.regplot(x=x1, y=Y, data=df, logistic=True, ci=None)"
   ]
  },
  {
   "cell_type": "code",
   "execution_count": 97,
   "id": "501f0d55",
   "metadata": {},
   "outputs": [],
   "source": [
    "X_train, X_test, Y_train, Y_test = model_selection.train_test_split (X,Y, test_size = 0.33, random_state = 7)"
   ]
  },
  {
   "cell_type": "markdown",
   "id": "7a972659",
   "metadata": {},
   "source": [
    "Since the values of the estimated salary feature are in a wide range we need to scale the values."
   ]
  },
  {
   "cell_type": "code",
   "execution_count": 98,
   "id": "cb99b24d",
   "metadata": {},
   "outputs": [],
   "source": [
    "scaler = StandardScaler ()\n",
    "X_train = scaler.fit_transform(X_train)\n",
    "X_test = scaler.fit_transform(X_test)"
   ]
  },
  {
   "cell_type": "code",
   "execution_count": 99,
   "id": "cc214f56",
   "metadata": {},
   "outputs": [
    {
     "data": {
      "text/plain": [
       "LogisticRegression(random_state=0, solver='liblinear')"
      ]
     },
     "execution_count": 99,
     "metadata": {},
     "output_type": "execute_result"
    }
   ],
   "source": [
    "classifier = LogisticRegression (random_state = seed, solver = 'liblinear')\n",
    "classifier.fit (X_train, Y_train)"
   ]
  },
  {
   "cell_type": "code",
   "execution_count": 100,
   "id": "50d381c1",
   "metadata": {},
   "outputs": [],
   "source": [
    "predictions = classifier.predict (X_test)"
   ]
  },
  {
   "cell_type": "code",
   "execution_count": 101,
   "id": "fc6a732a",
   "metadata": {},
   "outputs": [],
   "source": [
    "report=classification_report (Y_test, predictions)"
   ]
  },
  {
   "cell_type": "code",
   "execution_count": 102,
   "id": "c2b04854",
   "metadata": {},
   "outputs": [
    {
     "name": "stdout",
     "output_type": "stream",
     "text": [
      "              precision    recall  f1-score   support\n",
      "\n",
      "           0       0.95      0.90      0.92        58\n",
      "           1       0.76      0.86      0.81        22\n",
      "\n",
      "    accuracy                           0.89        80\n",
      "   macro avg       0.85      0.88      0.86        80\n",
      "weighted avg       0.89      0.89      0.89        80\n",
      "\n"
     ]
    }
   ],
   "source": [
    "print(report)"
   ]
  },
  {
   "cell_type": "code",
   "execution_count": 103,
   "id": "d56f666a",
   "metadata": {},
   "outputs": [
    {
     "data": {
      "text/plain": [
       "0.8875"
      ]
     },
     "execution_count": 103,
     "metadata": {},
     "output_type": "execute_result"
    }
   ],
   "source": [
    "accuracy_score (Y_test, predictions)"
   ]
  },
  {
   "cell_type": "markdown",
   "id": "388686d8",
   "metadata": {},
   "source": [
    "=> Considering all features provides a better accuracy and a better prediction model of the data."
   ]
  },
  {
   "cell_type": "code",
   "execution_count": 114,
   "id": "3ae4bc83",
   "metadata": {},
   "outputs": [
    {
     "data": {
      "text/plain": [
       "array([0], dtype=int64)"
      ]
     },
     "execution_count": 114,
     "metadata": {},
     "output_type": "execute_result"
    }
   ],
   "source": [
    "classifier.predict (scaler.transform([[34,90000]]))"
   ]
  },
  {
   "cell_type": "code",
   "execution_count": 105,
   "id": "4efb65bf",
   "metadata": {},
   "outputs": [
    {
     "data": {
      "text/plain": [
       "array([[ 1.92295008e+00,  2.14601566e+00],\n",
       "       [ 2.02016082e+00,  3.78719297e-01],\n",
       "       [-1.38221530e+00, -4.32498705e-01],\n",
       "       [-1.18779381e+00, -1.01194013e+00],\n",
       "       [ 1.92295008e+00, -9.25023920e-01],\n",
       "       [ 3.67578135e-01,  2.91803083e-01],\n",
       "       [ 1.73156642e-01,  1.46942725e-01],\n",
       "       [ 2.02016082e+00,  1.74040666e+00],\n",
       "       [ 7.56421121e-01, -8.38107706e-01],\n",
       "       [ 2.70367388e-01, -2.87638347e-01],\n",
       "       [ 3.67578135e-01, -1.71750061e-01],\n",
       "       [-1.18475597e-01,  2.20395980e+00],\n",
       "       [-1.47942605e+00, -6.35303205e-01],\n",
       "       [-1.28500455e+00, -1.06988428e+00],\n",
       "       [-1.38221530e+00,  4.07691369e-01],\n",
       "       [-1.09058306e+00,  7.55356227e-01],\n",
       "       [-1.47942605e+00, -2.00722133e-01],\n",
       "       [ 9.50842613e-01, -1.06988428e+00],\n",
       "       [ 9.50842613e-01,  5.81523798e-01],\n",
       "       [ 3.67578135e-01,  9.87132798e-01],\n",
       "       [ 5.61999628e-01, -8.96051849e-01],\n",
       "       [-6.04529329e-01,  1.45068594e+00],\n",
       "       [-2.12648508e-02, -5.77359062e-01],\n",
       "       [-6.04529329e-01,  1.88526701e+00],\n",
       "       [ 1.33968560e+00, -1.41754914e+00],\n",
       "       [ 1.43689635e+00,  9.87132798e-01],\n",
       "       [ 7.59458956e-02, -8.09135634e-01],\n",
       "       [-2.12648508e-02, -2.58666276e-01],\n",
       "       [-2.15686344e-01, -5.77359062e-01],\n",
       "       [-2.15686344e-01, -2.00722133e-01],\n",
       "       [-3.12897090e-01, -1.30166085e+00],\n",
       "       [-3.12897090e-01, -5.77359062e-01],\n",
       "       [ 3.67578135e-01,  8.89985821e-02],\n",
       "       [ 8.53631867e-01, -6.06331134e-01],\n",
       "       [ 2.02016082e+00, -1.18577256e+00],\n",
       "       [ 1.04805336e+00, -1.42777990e-01],\n",
       "       [ 6.59210374e-01,  1.76937873e+00],\n",
       "       [-7.01740076e-01,  5.52551726e-01],\n",
       "       [ 7.56421121e-01,  3.49747226e-01],\n",
       "       [ 8.53631867e-01, -5.48386991e-01],\n",
       "       [-1.18779381e+00, -1.59138156e+00],\n",
       "       [ 2.11737157e+00,  9.29188655e-01],\n",
       "       [-2.12648508e-02,  1.21890937e+00],\n",
       "       [ 1.73156642e-01,  1.07404901e+00],\n",
       "       [ 3.67578135e-01, -4.90442848e-01],\n",
       "       [-3.12897090e-01, -3.16610419e-01],\n",
       "       [ 9.50842613e-01, -8.38107706e-01],\n",
       "       [ 9.50842613e-01,  1.85629494e+00],\n",
       "       [-2.12648508e-02,  1.24788144e+00],\n",
       "       [-8.96161568e-01,  2.26190394e+00],\n",
       "       [-1.18779381e+00, -1.59138156e+00],\n",
       "       [ 2.11737157e+00, -8.09135634e-01],\n",
       "       [-1.38221530e+00, -1.47549328e+00],\n",
       "       [ 3.67578135e-01,  2.29087602e+00],\n",
       "       [ 7.56421121e-01,  7.55356227e-01],\n",
       "       [-9.93372315e-01, -3.16610419e-01],\n",
       "       [ 7.59458956e-02,  7.55356227e-01],\n",
       "       [-9.93372315e-01,  5.52551726e-01],\n",
       "       [ 2.70367388e-01,  6.00265106e-02],\n",
       "       [ 6.59210374e-01, -1.27268878e+00],\n",
       "       [-5.07318583e-01, -2.68897039e-02],\n",
       "       [-1.77105829e+00,  3.49747226e-01],\n",
       "       [-7.01740076e-01,  1.17970654e-01],\n",
       "       [ 3.67578135e-01,  2.91803083e-01],\n",
       "       [-3.12897090e-01,  6.00265106e-02],\n",
       "       [-5.07318583e-01,  2.29087602e+00],\n",
       "       [ 1.73156642e-01,  3.10544391e-02],\n",
       "       [ 1.24247485e+00,  2.20395980e+00],\n",
       "       [ 7.56421121e-01,  2.62831011e-01],\n",
       "       [-3.12897090e-01,  1.46942725e-01],\n",
       "       [-2.12648508e-02, -5.48386991e-01],\n",
       "       [-2.15686344e-01,  1.46942725e-01],\n",
       "       [-1.18475597e-01,  2.33858940e-01],\n",
       "       [-2.12648508e-02, -2.58666276e-01],\n",
       "       [ 2.11737157e+00,  1.10302108e+00],\n",
       "       [-1.77105829e+00,  3.49747226e-01],\n",
       "       [ 1.82573933e+00,  1.17970654e-01],\n",
       "       [ 3.67578135e-01, -1.42777990e-01],\n",
       "       [-1.18779381e+00,  2.91803083e-01],\n",
       "       [ 7.56421121e-01,  1.36376973e+00],\n",
       "       [-3.12897090e-01, -2.58666276e-01],\n",
       "       [-1.67384754e+00, -5.58617754e-02],\n",
       "       [-9.93372315e-01, -7.51191491e-01],\n",
       "       [ 2.70367388e-01,  4.94607583e-01],\n",
       "       [-1.18475597e-01, -1.06988428e+00],\n",
       "       [-1.09058306e+00,  5.81523798e-01],\n",
       "       [ 7.59458956e-02, -8.09135634e-01],\n",
       "       [-9.93372315e-01,  1.53760216e+00],\n",
       "       [-7.01740076e-01,  1.39274180e+00],\n",
       "       [-1.28500455e+00,  4.94607583e-01],\n",
       "       [-3.12897090e-01,  3.10544391e-02],\n",
       "       [-1.18475597e-01,  2.08236764e-03],\n",
       "       [-3.12897090e-01, -8.96051849e-01],\n",
       "       [ 8.53631867e-01, -1.35960499e+00],\n",
       "       [-3.12897090e-01,  2.23293187e+00],\n",
       "       [ 9.50842613e-01,  1.97218323e+00],\n",
       "       [-1.18779381e+00,  4.65635512e-01],\n",
       "       [-1.28500455e+00,  2.62831011e-01],\n",
       "       [ 1.33968560e+00,  1.97218323e+00],\n",
       "       [ 1.24247485e+00, -1.35960499e+00],\n",
       "       [-3.12897090e-01, -2.87638347e-01],\n",
       "       [-5.07318583e-01,  1.24788144e+00],\n",
       "       [-7.98950822e-01,  1.07404901e+00],\n",
       "       [ 9.50842613e-01, -1.06988428e+00],\n",
       "       [ 2.70367388e-01,  2.91803083e-01],\n",
       "       [ 9.50842613e-01,  7.55356227e-01],\n",
       "       [-7.01740076e-01, -1.50446535e+00],\n",
       "       [-7.01740076e-01,  3.10544391e-02],\n",
       "       [ 4.64788881e-01,  1.71143459e+00],\n",
       "       [ 2.02016082e+00,  1.75914797e-01],\n",
       "       [-1.96547978e+00, -7.51191491e-01],\n",
       "       [-2.15686344e-01,  1.39274180e+00],\n",
       "       [ 3.67578135e-01,  5.81523798e-01],\n",
       "       [ 8.53631867e-01, -1.15680049e+00],\n",
       "       [-1.18779381e+00, -7.80163563e-01],\n",
       "       [ 1.73156642e-01,  2.33858940e-01],\n",
       "       [ 7.56421121e-01, -3.16610419e-01],\n",
       "       [ 2.02016082e+00, -8.09135634e-01],\n",
       "       [ 7.56421121e-01,  1.17970654e-01],\n",
       "       [-3.12897090e-01,  6.10495869e-01],\n",
       "       [-9.93372315e-01, -3.16610419e-01],\n",
       "       [ 1.73156642e-01, -3.74554562e-01],\n",
       "       [ 2.02016082e+00,  2.11704359e+00],\n",
       "       [ 1.82573933e+00, -1.27268878e+00],\n",
       "       [ 1.33968560e+00, -9.25023920e-01],\n",
       "       [ 8.53631867e-01,  1.24788144e+00],\n",
       "       [ 1.43689635e+00,  2.11704359e+00],\n",
       "       [-3.12897090e-01, -1.24371671e+00],\n",
       "       [ 1.92295008e+00,  9.00216584e-01],\n",
       "       [ 6.59210374e-01, -7.22219420e-01],\n",
       "       [-1.47942605e+00,  3.49747226e-01],\n",
       "       [ 7.56421121e-01, -1.35960499e+00],\n",
       "       [ 3.67578135e-01, -1.42777990e-01],\n",
       "       [-9.93372315e-01,  4.07691369e-01],\n",
       "       [-2.12648508e-02, -3.16610419e-01],\n",
       "       [-1.18779381e+00,  4.07691369e-01],\n",
       "       [-8.96161568e-01, -1.21474464e+00],\n",
       "       [-1.18475597e-01,  3.10544391e-02],\n",
       "       [-1.57663679e+00, -4.32498705e-01],\n",
       "       [ 9.50842613e-01, -1.01194013e+00],\n",
       "       [ 1.04805336e+00, -1.21474464e+00],\n",
       "       [-2.12648508e-02, -1.42777990e-01],\n",
       "       [-1.09058306e+00, -1.53343742e+00],\n",
       "       [ 7.56421121e-01, -1.21474464e+00],\n",
       "       [ 9.50842613e-01,  2.05909944e+00],\n",
       "       [-1.18779381e+00, -1.53343742e+00],\n",
       "       [-3.12897090e-01,  7.84328298e-01],\n",
       "       [ 7.59458956e-02, -3.16610419e-01],\n",
       "       [-1.38221530e+00, -1.24371671e+00],\n",
       "       [-6.04529329e-01, -1.50446535e+00],\n",
       "       [ 7.56421121e-01,  5.23579655e-01],\n",
       "       [-3.12897090e-01, -3.45582490e-01],\n",
       "       [ 1.72852858e+00, -2.87638347e-01],\n",
       "       [ 8.53631867e-01, -1.04091221e+00],\n",
       "       [ 1.73156642e-01,  6.00265106e-02],\n",
       "       [-6.04529329e-01,  8.71244512e-01],\n",
       "       [-1.86826903e+00, -1.41754914e+00],\n",
       "       [-1.28500455e+00,  5.81523798e-01],\n",
       "       [-3.12897090e-01,  5.23579655e-01],\n",
       "       [-9.93372315e-01, -1.09885635e+00],\n",
       "       [ 1.14526411e+00, -1.44652121e+00],\n",
       "       [ 1.73156642e-01, -3.16610419e-01],\n",
       "       [ 1.14526411e+00, -7.51191491e-01],\n",
       "       [-3.12897090e-01,  6.00265106e-02],\n",
       "       [ 1.73156642e-01,  2.08807152e+00],\n",
       "       [ 7.56421121e-01, -1.09885635e+00],\n",
       "       [ 7.59458956e-02,  3.10544391e-02],\n",
       "       [-1.77105829e+00,  1.17970654e-01],\n",
       "       [-8.96161568e-01,  1.46942725e-01],\n",
       "       [-7.01740076e-01,  1.75914797e-01],\n",
       "       [ 8.53631867e-01, -1.30166085e+00],\n",
       "       [ 1.73156642e-01, -2.58666276e-01],\n",
       "       [-4.10107836e-01,  1.21890937e+00],\n",
       "       [-2.12648508e-02,  2.91803083e-01],\n",
       "       [ 3.67578135e-01,  1.46942725e-01],\n",
       "       [ 8.53631867e-01, -6.64275277e-01],\n",
       "       [ 7.59458956e-02,  1.46942725e-01],\n",
       "       [-1.86826903e+00, -1.30166085e+00],\n",
       "       [-1.18475597e-01,  2.91803083e-01],\n",
       "       [-2.15686344e-01, -2.87638347e-01],\n",
       "       [ 2.70367388e-01, -5.19414919e-01],\n",
       "       [-2.15686344e-01,  1.59554630e+00],\n",
       "       [ 9.50842613e-01, -1.18577256e+00],\n",
       "       [-2.15686344e-01,  1.62451837e+00],\n",
       "       [ 1.24247485e+00,  1.85629494e+00],\n",
       "       [-1.09058306e+00, -3.74554562e-01],\n",
       "       [-2.12648508e-02,  3.10544391e-02],\n",
       "       [ 7.59458956e-02, -2.58666276e-01],\n",
       "       [-1.57663679e+00, -1.24371671e+00],\n",
       "       [-5.07318583e-01, -2.87638347e-01],\n",
       "       [ 9.50842613e-01,  1.17970654e-01],\n",
       "       [ 1.92295008e+00, -1.35960499e+00],\n",
       "       [ 1.43689635e+00,  6.00265106e-02],\n",
       "       [-6.04529329e-01,  1.36376973e+00],\n",
       "       [ 1.53410709e+00,  2.08236764e-03],\n",
       "       [-7.98950822e-01,  2.91803083e-01],\n",
       "       [ 1.92295008e+00,  7.26384155e-01],\n",
       "       [-1.18779381e+00, -5.19414919e-01],\n",
       "       [ 6.59210374e-01,  2.62831011e-01],\n",
       "       [-1.38221530e+00, -4.32498705e-01],\n",
       "       [ 1.73156642e-01,  1.46942725e-01],\n",
       "       [-5.07318583e-01, -1.21474464e+00],\n",
       "       [ 5.61999628e-01,  2.00115530e+00],\n",
       "       [-1.57663679e+00, -1.50446535e+00],\n",
       "       [-5.07318583e-01, -5.48386991e-01],\n",
       "       [ 4.64788881e-01,  1.82732287e+00],\n",
       "       [-1.38221530e+00, -1.09885635e+00],\n",
       "       [ 7.56421121e-01, -1.38857706e+00],\n",
       "       [-3.12897090e-01, -4.32498705e-01],\n",
       "       [ 1.53410709e+00,  9.87132798e-01],\n",
       "       [ 9.50842613e-01,  1.42171387e+00],\n",
       "       [-3.12897090e-01, -4.90442848e-01],\n",
       "       [-1.18475597e-01,  2.14601566e+00],\n",
       "       [-1.47942605e+00, -1.13805918e-01],\n",
       "       [-1.18475597e-01,  1.94321116e+00],\n",
       "       [-7.01740076e-01, -3.45582490e-01],\n",
       "       [-5.07318583e-01, -8.38107706e-01],\n",
       "       [ 6.59210374e-01, -1.38857706e+00],\n",
       "       [-7.98950822e-01, -1.59138156e+00],\n",
       "       [-1.86826903e+00, -1.47549328e+00],\n",
       "       [ 1.04805336e+00,  1.17970654e-01],\n",
       "       [ 7.59458956e-02,  1.50863009e+00],\n",
       "       [-3.12897090e-01,  8.89985821e-02],\n",
       "       [ 7.59458956e-02,  3.10544391e-02],\n",
       "       [-1.38221530e+00, -1.35960499e+00],\n",
       "       [ 2.70367388e-01,  6.00265106e-02],\n",
       "       [-8.96161568e-01,  3.78719297e-01],\n",
       "       [ 1.53410709e+00, -1.27268878e+00],\n",
       "       [-3.12897090e-01, -7.51191491e-01],\n",
       "       [-1.18475597e-01,  1.46942725e-01],\n",
       "       [-8.96161568e-01, -6.64275277e-01],\n",
       "       [-7.01740076e-01, -5.58617754e-02],\n",
       "       [ 3.67578135e-01, -4.61470776e-01],\n",
       "       [-7.98950822e-01,  1.88526701e+00],\n",
       "       [ 1.33968560e+00,  1.27685351e+00],\n",
       "       [ 1.14526411e+00, -9.82968063e-01],\n",
       "       [ 1.72852858e+00,  1.82732287e+00],\n",
       "       [-8.96161568e-01, -2.58666276e-01],\n",
       "       [-7.98950822e-01,  5.52551726e-01],\n",
       "       [-1.18779381e+00, -1.56240949e+00],\n",
       "       [-5.07318583e-01, -1.12782842e+00],\n",
       "       [ 2.70367388e-01,  6.00265106e-02],\n",
       "       [-2.15686344e-01, -1.06988428e+00],\n",
       "       [ 1.63131784e+00,  1.59554630e+00],\n",
       "       [ 9.50842613e-01,  1.76937873e+00],\n",
       "       [ 2.70367388e-01,  3.10544391e-02],\n",
       "       [-7.98950822e-01, -2.29694204e-01],\n",
       "       [-1.18475597e-01,  6.00265106e-02],\n",
       "       [ 2.70367388e-01, -2.00722133e-01],\n",
       "       [ 1.92295008e+00, -6.64275277e-01],\n",
       "       [-7.98950822e-01,  1.33479766e+00],\n",
       "       [-1.77105829e+00, -6.06331134e-01],\n",
       "       [-1.18475597e-01,  1.17970654e-01],\n",
       "       [ 2.70367388e-01, -3.16610419e-01],\n",
       "       [ 1.04805336e+00,  5.52551726e-01],\n",
       "       [-9.93372315e-01,  2.62831011e-01],\n",
       "       [ 1.43689635e+00,  3.49747226e-01],\n",
       "       [ 1.73156642e-01, -3.74554562e-01],\n",
       "       [ 2.11737157e+00, -1.04091221e+00],\n",
       "       [-3.12897090e-01,  1.10302108e+00],\n",
       "       [-1.67384754e+00,  6.00265106e-02],\n",
       "       [-2.12648508e-02,  3.10544391e-02],\n",
       "       [ 7.59458956e-02,  1.04507694e+00],\n",
       "       [-1.18475597e-01, -3.74554562e-01],\n",
       "       [-1.18779381e+00,  6.00265106e-02],\n",
       "       [-3.12897090e-01, -1.35960499e+00],\n",
       "       [ 1.53410709e+00,  1.10302108e+00],\n",
       "       [-7.98950822e-01, -1.53343742e+00],\n",
       "       [ 7.59458956e-02,  1.85629494e+00],\n",
       "       [-8.96161568e-01, -7.80163563e-01],\n",
       "       [-5.07318583e-01, -7.80163563e-01],\n",
       "       [-3.12897090e-01, -9.25023920e-01],\n",
       "       [ 2.70367388e-01, -7.22219420e-01],\n",
       "       [ 2.70367388e-01,  6.00265106e-02],\n",
       "       [ 7.59458956e-02,  1.85629494e+00],\n",
       "       [-1.09058306e+00,  1.94321116e+00],\n",
       "       [-1.67384754e+00, -1.56240949e+00],\n",
       "       [-1.18779381e+00, -1.09885635e+00],\n",
       "       [-7.01740076e-01, -1.13805918e-01],\n",
       "       [ 7.59458956e-02,  8.89985821e-02],\n",
       "       [ 2.70367388e-01,  2.62831011e-01],\n",
       "       [ 8.53631867e-01, -5.77359062e-01],\n",
       "       [ 2.70367388e-01, -1.15680049e+00],\n",
       "       [-1.18475597e-01,  6.68440012e-01],\n",
       "       [ 2.11737157e+00, -6.93247348e-01],\n",
       "       [-1.28500455e+00, -1.38857706e+00],\n",
       "       [-9.93372315e-01, -9.53995992e-01],\n",
       "       [-2.12648508e-02, -4.32498705e-01],\n",
       "       [-2.15686344e-01, -4.61470776e-01],\n",
       "       [-1.77105829e+00, -9.82968063e-01],\n",
       "       [ 1.72852858e+00,  9.87132798e-01],\n",
       "       [ 1.73156642e-01, -3.74554562e-01],\n",
       "       [ 3.67578135e-01,  1.10302108e+00],\n",
       "       [-1.77105829e+00, -1.35960499e+00],\n",
       "       [ 1.73156642e-01, -1.42777990e-01],\n",
       "       [ 8.53631867e-01, -1.44652121e+00],\n",
       "       [-1.96547978e+00,  4.65635512e-01],\n",
       "       [-3.12897090e-01,  2.62831011e-01],\n",
       "       [ 1.82573933e+00, -1.06988428e+00],\n",
       "       [-4.10107836e-01,  6.00265106e-02],\n",
       "       [ 1.04805336e+00, -8.96051849e-01],\n",
       "       [-1.09058306e+00, -1.12782842e+00],\n",
       "       [-1.86826903e+00,  2.08236764e-03],\n",
       "       [ 7.59458956e-02,  2.62831011e-01],\n",
       "       [-1.18779381e+00,  3.20775154e-01],\n",
       "       [-1.28500455e+00,  2.91803083e-01],\n",
       "       [-9.93372315e-01,  4.36663440e-01],\n",
       "       [ 1.63131784e+00, -8.96051849e-01],\n",
       "       [ 1.14526411e+00,  5.23579655e-01],\n",
       "       [ 1.04805336e+00,  5.23579655e-01],\n",
       "       [ 1.33968560e+00,  2.31984809e+00],\n",
       "       [-3.12897090e-01, -1.42777990e-01],\n",
       "       [ 3.67578135e-01, -4.61470776e-01],\n",
       "       [-4.10107836e-01, -7.80163563e-01],\n",
       "       [-1.18475597e-01, -5.19414919e-01],\n",
       "       [ 9.50842613e-01, -1.15680049e+00],\n",
       "       [-8.96161568e-01, -7.80163563e-01],\n",
       "       [-2.15686344e-01, -5.19414919e-01],\n",
       "       [-1.09058306e+00, -4.61470776e-01],\n",
       "       [-1.18779381e+00,  1.39274180e+00]])"
      ]
     },
     "execution_count": 105,
     "metadata": {},
     "output_type": "execute_result"
    }
   ],
   "source": [
    "X_train"
   ]
  },
  {
   "cell_type": "code",
   "execution_count": null,
   "id": "e2cbbfe8",
   "metadata": {},
   "outputs": [],
   "source": []
  }
 ],
 "metadata": {
  "kernelspec": {
   "display_name": "Python 3 (ipykernel)",
   "language": "python",
   "name": "python3"
  },
  "language_info": {
   "codemirror_mode": {
    "name": "ipython",
    "version": 3
   },
   "file_extension": ".py",
   "mimetype": "text/x-python",
   "name": "python",
   "nbconvert_exporter": "python",
   "pygments_lexer": "ipython3",
   "version": "3.9.7"
  }
 },
 "nbformat": 4,
 "nbformat_minor": 5
}
